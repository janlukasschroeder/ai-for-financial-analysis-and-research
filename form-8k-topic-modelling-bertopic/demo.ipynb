{
 "cells": [
  {
   "cell_type": "markdown",
   "metadata": {},
   "source": [
    "# Topic Modelling of Material Event Disclosures (Form 8-K, Item 8.01)\n",
    "\n",
    "**Pipeline**:\n",
    "- [sec-api.io](https://sec-api.io/docs/sec-filings-item-extraction-api): Extract and download text sections from Item 8.01 disclosures\n",
    "- [OpenAI Embeddings API](https://platform.openai.com/docs/guides/embeddings#embedding-models): Create embedding vectors for each text section\n",
    "- [UMAP](https://umap-learn.readthedocs.io/en/latest/basic_usage.html): Reduce dimensionality of embeddings (1536 -> 5D)\n",
    "- [HDBSCAN](https://hdbscan.readthedocs.io/en/latest/how_hdbscan_works.html): Unsupervised clustering of reduced embeddings\n",
    "- [BERTopic](https://maartengr.github.io/BERTopic/index.html) to create topics from the clusters and visualize them"
   ]
  },
  {
   "cell_type": "markdown",
   "metadata": {},
   "source": [
    "## What are Form 8-K disclosures?\n",
    "\n",
    "- Publicly traded U.S. companies must file Form 8-K filings with the SEC when certain events occur that are important to shareholders.\n",
    "- Examples of events: executive changes, bankruptcy, acquisition, etc.\n",
    "- 8-K filings are published within 4 days of the event. Its publication is triggered by the occurence of an event, not by a time schedule.\n",
    "- The filing is divided into sections labeled with item numbers (e.g., Item 1.01, Item 5.02). Each item number corresponds to a specific type of event.\n",
    "- Item 8.01 is a \"catch-all\" category for events relevant to security holders but not specified elsewhere in the form.\n",
    "\n",
    "### Examples:\n",
    "\n",
    "Item 1.01 - Entry into an agreement\n",
    "- Mergers and acquisitions, commercial contracts with suppliers, debt agreements, etc.\n",
    "\n",
    "Item 2.02 - Earnings release (quarterly or annual results)\n",
    "- Earnings releases including financial performance of company (income statement, balance sheet, etc.)\n",
    "\n",
    "Item 4.02 - Previously issued financial statements can no longer be relied upon\n",
    "- Error in financial statements was discovered, information about the affected financial statements, the impact of the errors, etc.\n",
    "\n",
    "Our focus: Item 8.01 - Other events"
   ]
  },
  {
   "cell_type": "markdown",
   "metadata": {},
   "source": [
    "## Helper Functions\n",
    "\n",
    "- For simplicity, I already downloaded all Item 8.01 text sections and created embedding vectors for each section\n",
    "- The helper functions below are used to load the text sections and embeddings from disk into memory"
   ]
  },
  {
   "cell_type": "code",
   "execution_count": 53,
   "metadata": {},
   "outputs": [],
   "source": [
    "# load all JSON files from ./data/8k-items/item-8-01/embeddings/<year>/<cik>/...json\n",
    "# load all TXT files from ./data/8k-items/item-8-01/content/<year>/<cik>/...txt\n",
    "\n",
    "# pip install matplotlib pandas numpy python-dotenv umap-learn hdbscan openai bertopic\n",
    "import os\n",
    "import json\n",
    "import textwrap\n",
    "import html\n",
    "import pandas as pd\n",
    "import numpy as np\n",
    "from dotenv import load_dotenv\n",
    "\n",
    "load_dotenv()  # load .env file\n",
    "\n",
    "OPENAI_API_KEY = os.getenv(\"OPENAI_API_KEY\")\n",
    "\n",
    "\n",
    "def print_text(text):\n",
    "    paragraphs = text.splitlines()\n",
    "    wrapped_paragraphs = [textwrap.fill(p, width=150) for p in paragraphs]\n",
    "    wrapped_text = \"\\n\".join(wrapped_paragraphs)\n",
    "    decoded_text = html.unescape(wrapped_text)\n",
    "    print(decoded_text)\n",
    "\n",
    "\n",
    "def load_json_files(directory):\n",
    "    data = []\n",
    "    for root, dirs, files in os.walk(directory):\n",
    "        for file in files:\n",
    "            if file.endswith(\".json\"):\n",
    "                file_path = os.path.join(root, file)\n",
    "                with open(file_path, \"r\") as f:\n",
    "                    try:\n",
    "                        content = json.load(f)\n",
    "                        content[\"file_path\"] = file_path\n",
    "                        data.append(content)\n",
    "                    except json.JSONDecodeError as e:\n",
    "                        print(f\"Error decoding JSON from {file_path}: {e}\")\n",
    "    return data\n",
    "\n",
    "\n",
    "def load_txt_files(directory):\n",
    "    data = []\n",
    "    for root, dirs, files in os.walk(directory):\n",
    "        for file in files:\n",
    "            if file.endswith(\".txt\"):\n",
    "                file_path = os.path.join(root, file)\n",
    "                with open(file_path, \"r\") as f:\n",
    "                    try:\n",
    "                        content = f.read()\n",
    "                        data.append(content)\n",
    "                    except Exception as e:\n",
    "                        print(f\"Error reading TXT from {file_path}: {e}\")\n",
    "    return data\n",
    "\n",
    "\n",
    "def load_all_embeddings():\n",
    "    base_dir = \"../data/8k-items/item-8-01/embeddings\"\n",
    "    all_data = []\n",
    "    for year in os.listdir(base_dir):\n",
    "        if not year in [\"2023\"]:\n",
    "            continue\n",
    "        year_dir = os.path.join(base_dir, year)\n",
    "        if os.path.isdir(year_dir):\n",
    "            for cik in os.listdir(year_dir):\n",
    "                cik_dir = os.path.join(year_dir, cik)\n",
    "                if os.path.isdir(cik_dir):\n",
    "                    data = load_json_files(cik_dir)\n",
    "                    all_data.extend(data)\n",
    "    return all_data\n",
    "\n",
    "\n",
    "def load_dataset():\n",
    "    raw_embeddings = load_all_embeddings()\n",
    "\n",
    "    embeddings_df = pd.DataFrame(raw_embeddings)\n",
    "\n",
    "    embeddings_df[\"embeddings\"] = embeddings_df[\"data\"].apply(\n",
    "        lambda x: x[0][\"embedding\"] if isinstance(x, list) and len(x) > 0 else None\n",
    "    )\n",
    "    embeddings_df[\"content\"] = embeddings_df[\"file_path\"].apply(\n",
    "        lambda x: (\n",
    "            load_txt_files(os.path.dirname(x.replace(\"embeddings\", \"content\")))[0]\n",
    "            if os.path.exists(os.path.dirname(x.replace(\"embeddings\", \"content\")))\n",
    "            else None\n",
    "        )\n",
    "    )\n",
    "    embeddings_df[\"accessionNo\"] = embeddings_df[\"file_path\"].apply(\n",
    "        lambda x: x.split(\"/\")[-1].split(\"-\")[0]\n",
    "    )\n",
    "    embeddings_df = embeddings_df.drop_duplicates(subset=[\"content\"])\n",
    "    embeddings_df = embeddings_df.reset_index(drop=True)\n",
    "\n",
    "    return embeddings_df[\n",
    "        [\"file_path\", \"embeddings\", \"content\", \"accessionNo\"]\n",
    "    ].reset_index(drop=True)"
   ]
  },
  {
   "cell_type": "markdown",
   "metadata": {},
   "source": [
    "## Dataset Loading\n",
    "\n",
    "- Load finalized dataset into memory\n",
    "- Dataset includes a sample of ~800 Item 8.01 text sections from 2023 and their respective embeddings"
   ]
  },
  {
   "cell_type": "code",
   "execution_count": 20,
   "metadata": {},
   "outputs": [
    {
     "name": "stdout",
     "output_type": "stream",
     "text": [
      "Loaded 807 embeddings\n",
      "Dimension of the embeddings: 1536\n"
     ]
    }
   ],
   "source": [
    "dataset = load_dataset()\n",
    "\n",
    "print(f\"Loaded {len(dataset)} embeddings\")\n",
    "print(\"Dimension of the embeddings:\", len(dataset['embeddings'][0]))"
   ]
  },
  {
   "cell_type": "code",
   "execution_count": 21,
   "metadata": {},
   "outputs": [
    {
     "data": {
      "text/html": [
       "<div>\n",
       "<style scoped>\n",
       "    .dataframe tbody tr th:only-of-type {\n",
       "        vertical-align: middle;\n",
       "    }\n",
       "\n",
       "    .dataframe tbody tr th {\n",
       "        vertical-align: top;\n",
       "    }\n",
       "\n",
       "    .dataframe thead th {\n",
       "        text-align: right;\n",
       "    }\n",
       "</style>\n",
       "<table border=\"1\" class=\"dataframe\">\n",
       "  <thead>\n",
       "    <tr style=\"text-align: right;\">\n",
       "      <th></th>\n",
       "      <th>file_path</th>\n",
       "      <th>embeddings</th>\n",
       "      <th>content</th>\n",
       "      <th>accessionNo</th>\n",
       "    </tr>\n",
       "  </thead>\n",
       "  <tbody>\n",
       "    <tr>\n",
       "      <th>0</th>\n",
       "      <td>../data/8k-items/item-8-01/embeddings/2023/000...</td>\n",
       "      <td>[-0.02210092, -0.015903888, 0.017384594, 0.030...</td>\n",
       "      <td>Item 8.01. Other Events . \\n\\n&amp;#8203; \\n\\nOn ...</td>\n",
       "      <td>000161198323000009</td>\n",
       "    </tr>\n",
       "    <tr>\n",
       "      <th>1</th>\n",
       "      <td>../data/8k-items/item-8-01/embeddings/2023/000...</td>\n",
       "      <td>[0.006691796, 0.004263799, 0.015818167, -0.009...</td>\n",
       "      <td>Item 8.01 Other Events. \\n\\nBandwidth announc...</td>\n",
       "      <td>000151441623000050</td>\n",
       "    </tr>\n",
       "    <tr>\n",
       "      <th>2</th>\n",
       "      <td>../data/8k-items/item-8-01/embeddings/2023/000...</td>\n",
       "      <td>[0.07643277, 0.006872245, 0.07082075, 0.033274...</td>\n",
       "      <td>Item 8.01 Other Events. \\n\\nThe three paragra...</td>\n",
       "      <td>000111061123000014</td>\n",
       "    </tr>\n",
       "    <tr>\n",
       "      <th>3</th>\n",
       "      <td>../data/8k-items/item-8-01/embeddings/2023/000...</td>\n",
       "      <td>[0.020135557, 0.039088987, 0.05151445, 0.00129...</td>\n",
       "      <td>Item 8.01. Other Events \\n\\nIn accordance wit...</td>\n",
       "      <td>000161869723000007</td>\n",
       "    </tr>\n",
       "    <tr>\n",
       "      <th>4</th>\n",
       "      <td>../data/8k-items/item-8-01/embeddings/2023/000...</td>\n",
       "      <td>[0.0053011575, 0.047115248, 0.04658928, 0.0262...</td>\n",
       "      <td>Item 8.01 Other Events \\n\\nCredit Agreement R...</td>\n",
       "      <td>000160971123000116</td>\n",
       "    </tr>\n",
       "    <tr>\n",
       "      <th>...</th>\n",
       "      <td>...</td>\n",
       "      <td>...</td>\n",
       "      <td>...</td>\n",
       "      <td>...</td>\n",
       "    </tr>\n",
       "    <tr>\n",
       "      <th>802</th>\n",
       "      <td>../data/8k-items/item-8-01/embeddings/2023/000...</td>\n",
       "      <td>[0.022473125, 0.012677313, 0.0005933445, 0.038...</td>\n",
       "      <td>ITEM 8.01 OTHER EVENTS. \\n\\nOn February 4, 20...</td>\n",
       "      <td>000101628123000048</td>\n",
       "    </tr>\n",
       "    <tr>\n",
       "      <th>803</th>\n",
       "      <td>../data/8k-items/item-8-01/embeddings/2023/000...</td>\n",
       "      <td>[-0.0039996565, 0.02207242, 0.05903209, 0.0241...</td>\n",
       "      <td>ITEM 8.01. OTHER EVENTS \\n\\nNewmont Corporati...</td>\n",
       "      <td>000116472723000035</td>\n",
       "    </tr>\n",
       "    <tr>\n",
       "      <th>804</th>\n",
       "      <td>../data/8k-items/item-8-01/embeddings/2023/000...</td>\n",
       "      <td>[0.01852244, 0.012341683, 0.0021566546, 0.0156...</td>\n",
       "      <td>Item 8.01 Other Events \\n\\nOn November 2, 202...</td>\n",
       "      <td>000104869523000032</td>\n",
       "    </tr>\n",
       "    <tr>\n",
       "      <th>805</th>\n",
       "      <td>../data/8k-items/item-8-01/embeddings/2023/000...</td>\n",
       "      <td>[0.022999143, -0.016711706, 0.06586056, 0.0549...</td>\n",
       "      <td>Item 8.01. Other Events. \\n\\nOn July 6, 2023,...</td>\n",
       "      <td>000110820523000056</td>\n",
       "    </tr>\n",
       "    <tr>\n",
       "      <th>806</th>\n",
       "      <td>../data/8k-items/item-8-01/embeddings/2023/000...</td>\n",
       "      <td>[-0.02273813, 0.0461684, 0.040964525, 0.029762...</td>\n",
       "      <td>Item 8.01. Other Events. \\n\\nOn October 16, 2...</td>\n",
       "      <td>000102071023000095</td>\n",
       "    </tr>\n",
       "  </tbody>\n",
       "</table>\n",
       "<p>807 rows × 4 columns</p>\n",
       "</div>"
      ],
      "text/plain": [
       "                                             file_path  \\\n",
       "0    ../data/8k-items/item-8-01/embeddings/2023/000...   \n",
       "1    ../data/8k-items/item-8-01/embeddings/2023/000...   \n",
       "2    ../data/8k-items/item-8-01/embeddings/2023/000...   \n",
       "3    ../data/8k-items/item-8-01/embeddings/2023/000...   \n",
       "4    ../data/8k-items/item-8-01/embeddings/2023/000...   \n",
       "..                                                 ...   \n",
       "802  ../data/8k-items/item-8-01/embeddings/2023/000...   \n",
       "803  ../data/8k-items/item-8-01/embeddings/2023/000...   \n",
       "804  ../data/8k-items/item-8-01/embeddings/2023/000...   \n",
       "805  ../data/8k-items/item-8-01/embeddings/2023/000...   \n",
       "806  ../data/8k-items/item-8-01/embeddings/2023/000...   \n",
       "\n",
       "                                            embeddings  \\\n",
       "0    [-0.02210092, -0.015903888, 0.017384594, 0.030...   \n",
       "1    [0.006691796, 0.004263799, 0.015818167, -0.009...   \n",
       "2    [0.07643277, 0.006872245, 0.07082075, 0.033274...   \n",
       "3    [0.020135557, 0.039088987, 0.05151445, 0.00129...   \n",
       "4    [0.0053011575, 0.047115248, 0.04658928, 0.0262...   \n",
       "..                                                 ...   \n",
       "802  [0.022473125, 0.012677313, 0.0005933445, 0.038...   \n",
       "803  [-0.0039996565, 0.02207242, 0.05903209, 0.0241...   \n",
       "804  [0.01852244, 0.012341683, 0.0021566546, 0.0156...   \n",
       "805  [0.022999143, -0.016711706, 0.06586056, 0.0549...   \n",
       "806  [-0.02273813, 0.0461684, 0.040964525, 0.029762...   \n",
       "\n",
       "                                               content         accessionNo  \n",
       "0     Item 8.01. Other Events . \\n\\n&#8203; \\n\\nOn ...  000161198323000009  \n",
       "1     Item 8.01 Other Events. \\n\\nBandwidth announc...  000151441623000050  \n",
       "2     Item 8.01 Other Events. \\n\\nThe three paragra...  000111061123000014  \n",
       "3     Item 8.01. Other Events \\n\\nIn accordance wit...  000161869723000007  \n",
       "4     Item 8.01 Other Events \\n\\nCredit Agreement R...  000160971123000116  \n",
       "..                                                 ...                 ...  \n",
       "802   ITEM 8.01 OTHER EVENTS. \\n\\nOn February 4, 20...  000101628123000048  \n",
       "803   ITEM 8.01. OTHER EVENTS \\n\\nNewmont Corporati...  000116472723000035  \n",
       "804   Item 8.01 Other Events \\n\\nOn November 2, 202...  000104869523000032  \n",
       "805   Item 8.01. Other Events. \\n\\nOn July 6, 2023,...  000110820523000056  \n",
       "806   Item 8.01. Other Events. \\n\\nOn October 16, 2...  000102071023000095  \n",
       "\n",
       "[807 rows x 4 columns]"
      ]
     },
     "execution_count": 21,
     "metadata": {},
     "output_type": "execute_result"
    }
   ],
   "source": [
    "dataset"
   ]
  },
  {
   "cell_type": "code",
   "execution_count": 52,
   "metadata": {},
   "outputs": [
    {
     "name": "stdout",
     "output_type": "stream",
     "text": [
      "### Example content ###\n",
      " Item 8.01. Other Events .\n",
      "\n",
      "​\n",
      "\n",
      "On February 21, 2023, Liberty Broadband Corporation (“Liberty Broadband”), issued a press release announcing the commencement of its cash\n",
      "tender offers to purchase any and all of each of the $14,536,000 outstanding aggregate principal amount of Grizzly Merger Sub 1, LLC’s, a wholly\n",
      "owned subsidiary of Liberty Broadband, 1.75% Exchangeable Senior Debentures due 2046 (the “1.75% Debentures”), the $575,000,000\n",
      "outstanding aggregate principal amount of Liberty Broadband’s 2.75% Exchangeable Senior Debentures due 2050 (the “2.75% Debentures”)\n",
      "and the $825,000,000 outstanding aggregate principal amount of Liberty Broadband’s 1.25% Exchangeable Senior Debentures due 2050 (the\n",
      "“1.25% Debentures” and, together with the 1.75% Debentures and the 2.75% Debentures, the “Debentures”), subject to certain\n",
      "conditions. A copy of the press release announcing the tender offers is attached hereto as Exhibit 99.1 and incorporated by reference herein.\n",
      "\n",
      "This Current Report on Form 8-K does not constitute an offer to tender for, or purchase, any Debentures or any other security, nor does it constitute\n",
      "an offer to sell or the solicitation of an offer to buy any security.\n",
      "\n",
      "​\n",
      "\n"
     ]
    }
   ],
   "source": [
    "print('### Example content ###')\n",
    "print_text(dataset.loc[0, 'content'])"
   ]
  },
  {
   "cell_type": "markdown",
   "metadata": {},
   "source": [
    "## Reduce Dimensionality\n",
    "\n",
    "- Use UMAP to reduce embeddings from 1536 dimensions to 5 dimensions"
   ]
  },
  {
   "cell_type": "code",
   "execution_count": null,
   "metadata": {},
   "outputs": [],
   "source": [
    "from umap import UMAP\n",
    "\n",
    "# reduce embeddings from 1536 dimenions to 5 dimenions\n",
    "n_dim = 5\n",
    "umap_model = UMAP(n_components=n_dim, min_dist=0.0, metric=\"cosine\", random_state=42)\n",
    "\n",
    "reduced_embeddings_n_5 = umap_model.fit_transform(dataset[\"embeddings\"].tolist())"
   ]
  },
  {
   "cell_type": "markdown",
   "metadata": {},
   "source": [
    "## Cluster Reduced Embeddings\n",
    "\n",
    "- Use HDBSCAN for unsupervised clustering of the reduced embeddings\n",
    "- Minimum cluster size of 10"
   ]
  },
  {
   "cell_type": "code",
   "execution_count": null,
   "metadata": {},
   "outputs": [
    {
     "name": "stdout",
     "output_type": "stream",
     "text": [
      "Number of clusters: 13\n"
     ]
    }
   ],
   "source": [
    "from hdbscan import HDBSCAN\n",
    "\n",
    "# fit the model and extract the clusters\n",
    "hdbscan_model = HDBSCAN(\n",
    "    min_cluster_size=10, metric=\"euclidean\", cluster_selection_method=\"eom\"\n",
    ").fit(reduced_embeddings_n_5)\n",
    "\n",
    "clusters = hdbscan_model.labels_\n",
    "\n",
    "print(f\"Number of clusters: {len(set(clusters)) - (1 if -1 in clusters else 0)}\")"
   ]
  },
  {
   "cell_type": "markdown",
   "metadata": {},
   "source": [
    "## Inspecting the Clusters\n",
    "\n",
    "- First documents in sample cluster deal with NASDAQ compliance issues"
   ]
  },
  {
   "cell_type": "code",
   "execution_count": null,
   "metadata": {},
   "outputs": [
    {
     "name": "stdout",
     "output_type": "stream",
     "text": [
      " Item 8.01 Other Events.\n",
      "\n",
      "Regain of Compliance with Nasdaq Listing Rule 5550(b)(1)\n",
      "\n",
      "As previously disclosed, on March 20, 2023, HeartBeam, Inc. (the “ Company ”) received a notification letter from The Nasdaq Stock Market\n",
      "LLC (the “ Nasdaq ”) indicating that the Company was not in compliance with Nasdaq’s Listing Rule 5550(b)(1) because the Company\n",
      "reported in its Form 10-K for the year ended December 31, 2022 stockholders’ equity of $2,374,000, and, as a re...\n",
      "##################################################\n",
      " Item 8.01\n",
      "\n",
      "Other Events.\n",
      "\n",
      " \n",
      "\n",
      "As previously disclosed, on November 28, 2023, Avinger, Inc. (the “Company”) requested and was granted a hearing before the Nasdaq\n",
      "Hearings Panel (the “Panel”), which hearing was initially scheduled for March 14, 2024. The Company’s request for a hearing stayed\n",
      "any further action by The Nasdaq Stock Market LLC (“Nasdaq”) with respect to the Company’s listing at least until the hearing is\n",
      "held and any extension t...\n",
      "##################################################\n"
     ]
    }
   ],
   "source": [
    "# print first documents in sample cluster\n",
    "cluster = 1\n",
    "\n",
    "for index in np.where(clusters == cluster)[0][:2]:\n",
    "    print_text(dataset.loc[index, \"content\"][:500] + \"...\")\n",
    "    print(\"#\" * 50)"
   ]
  },
  {
   "cell_type": "markdown",
   "metadata": {},
   "source": [
    "## Visualize Clusters\n",
    "\n",
    "- Visualization is only practical in 2D or 3D; it does not work for higher dimensions like 1536 (the size of the embeddings).\n",
    "- Use UMAP to reduce the 1536-dimensional embeddings down to 2 dimensions (x and y axes).\n",
    "- Plot the clusters identified in 5D space, on a 2D plane for easier interpretation."
   ]
  },
  {
   "cell_type": "code",
   "execution_count": null,
   "metadata": {},
   "outputs": [],
   "source": [
    "# reduce 1536-dimensional embeddings to 2 dimensions for visualization\n",
    "reduced_embeddings_n_2 = UMAP(\n",
    "    n_components=2, min_dist=0.0, metric=\"cosine\", random_state=42\n",
    ").fit_transform(dataset[\"embeddings\"].tolist())\n",
    "\n",
    "dataset['x'] = reduced_embeddings_n_2[:, 0]\n",
    "dataset['y'] = reduced_embeddings_n_2[:, 1]\n",
    "dataset[\"cluster\"] = [str(c) for c in clusters]\n",
    "\n",
    "clusters_df = dataset.loc[dataset.cluster != \"-1\", :]\n",
    "outliers_df = dataset.loc[dataset.cluster == \"-1\", :]"
   ]
  },
  {
   "cell_type": "code",
   "execution_count": 27,
   "metadata": {},
   "outputs": [
    {
     "data": {
      "text/html": [
       "<div>\n",
       "<style scoped>\n",
       "    .dataframe tbody tr th:only-of-type {\n",
       "        vertical-align: middle;\n",
       "    }\n",
       "\n",
       "    .dataframe tbody tr th {\n",
       "        vertical-align: top;\n",
       "    }\n",
       "\n",
       "    .dataframe thead th {\n",
       "        text-align: right;\n",
       "    }\n",
       "</style>\n",
       "<table border=\"1\" class=\"dataframe\">\n",
       "  <thead>\n",
       "    <tr style=\"text-align: right;\">\n",
       "      <th></th>\n",
       "      <th>file_path</th>\n",
       "      <th>embeddings</th>\n",
       "      <th>content</th>\n",
       "      <th>accessionNo</th>\n",
       "      <th>x</th>\n",
       "      <th>y</th>\n",
       "      <th>cluster</th>\n",
       "    </tr>\n",
       "  </thead>\n",
       "  <tbody>\n",
       "    <tr>\n",
       "      <th>0</th>\n",
       "      <td>../data/8k-items/item-8-01/embeddings/2023/000...</td>\n",
       "      <td>[-0.02210092, -0.015903888, 0.017384594, 0.030...</td>\n",
       "      <td>Item 8.01. Other Events . \\n\\n&amp;#8203; \\n\\nOn ...</td>\n",
       "      <td>000161198323000009</td>\n",
       "      <td>1.059331</td>\n",
       "      <td>3.693532</td>\n",
       "      <td>12</td>\n",
       "    </tr>\n",
       "    <tr>\n",
       "      <th>2</th>\n",
       "      <td>../data/8k-items/item-8-01/embeddings/2023/000...</td>\n",
       "      <td>[0.07643277, 0.006872245, 0.07082075, 0.033274...</td>\n",
       "      <td>Item 8.01 Other Events. \\n\\nThe three paragra...</td>\n",
       "      <td>000111061123000014</td>\n",
       "      <td>10.074734</td>\n",
       "      <td>4.479414</td>\n",
       "      <td>0</td>\n",
       "    </tr>\n",
       "    <tr>\n",
       "      <th>3</th>\n",
       "      <td>../data/8k-items/item-8-01/embeddings/2023/000...</td>\n",
       "      <td>[0.020135557, 0.039088987, 0.05151445, 0.00129...</td>\n",
       "      <td>Item 8.01. Other Events \\n\\nIn accordance wit...</td>\n",
       "      <td>000161869723000007</td>\n",
       "      <td>9.155782</td>\n",
       "      <td>3.657246</td>\n",
       "      <td>0</td>\n",
       "    </tr>\n",
       "    <tr>\n",
       "      <th>4</th>\n",
       "      <td>../data/8k-items/item-8-01/embeddings/2023/000...</td>\n",
       "      <td>[0.0053011575, 0.047115248, 0.04658928, 0.0262...</td>\n",
       "      <td>Item 8.01 Other Events \\n\\nCredit Agreement R...</td>\n",
       "      <td>000160971123000116</td>\n",
       "      <td>-0.282887</td>\n",
       "      <td>2.633082</td>\n",
       "      <td>10</td>\n",
       "    </tr>\n",
       "    <tr>\n",
       "      <th>5</th>\n",
       "      <td>../data/8k-items/item-8-01/embeddings/2023/000...</td>\n",
       "      <td>[0.06891989, -0.0036731497, 0.038930554, 0.025...</td>\n",
       "      <td>Item 8.01 Other Events \\n\\nOn February 24, 20...</td>\n",
       "      <td>000158773223000052</td>\n",
       "      <td>9.369566</td>\n",
       "      <td>4.750178</td>\n",
       "      <td>0</td>\n",
       "    </tr>\n",
       "    <tr>\n",
       "      <th>...</th>\n",
       "      <td>...</td>\n",
       "      <td>...</td>\n",
       "      <td>...</td>\n",
       "      <td>...</td>\n",
       "      <td>...</td>\n",
       "      <td>...</td>\n",
       "      <td>...</td>\n",
       "    </tr>\n",
       "    <tr>\n",
       "      <th>800</th>\n",
       "      <td>../data/8k-items/item-8-01/embeddings/2023/000...</td>\n",
       "      <td>[0.010682319, 0.02873441, 0.064966984, 0.00759...</td>\n",
       "      <td>Item 8.01 Other Events. \\n\\nESTIMATED PER SHA...</td>\n",
       "      <td>000163297023000028</td>\n",
       "      <td>-1.729474</td>\n",
       "      <td>2.616675</td>\n",
       "      <td>8</td>\n",
       "    </tr>\n",
       "    <tr>\n",
       "      <th>801</th>\n",
       "      <td>../data/8k-items/item-8-01/embeddings/2023/000...</td>\n",
       "      <td>[0.035607353, 0.013134976, 0.04448197, 0.01894...</td>\n",
       "      <td>Item 8.01. Other Events \\n\\n(New York, NY) &amp;#...</td>\n",
       "      <td>000143710723000121</td>\n",
       "      <td>2.174681</td>\n",
       "      <td>1.532412</td>\n",
       "      <td>11</td>\n",
       "    </tr>\n",
       "    <tr>\n",
       "      <th>802</th>\n",
       "      <td>../data/8k-items/item-8-01/embeddings/2023/000...</td>\n",
       "      <td>[0.022473125, 0.012677313, 0.0005933445, 0.038...</td>\n",
       "      <td>ITEM 8.01 OTHER EVENTS. \\n\\nOn February 4, 20...</td>\n",
       "      <td>000101628123000048</td>\n",
       "      <td>-0.370978</td>\n",
       "      <td>1.858934</td>\n",
       "      <td>10</td>\n",
       "    </tr>\n",
       "    <tr>\n",
       "      <th>804</th>\n",
       "      <td>../data/8k-items/item-8-01/embeddings/2023/000...</td>\n",
       "      <td>[0.01852244, 0.012341683, 0.0021566546, 0.0156...</td>\n",
       "      <td>Item 8.01 Other Events \\n\\nOn November 2, 202...</td>\n",
       "      <td>000104869523000032</td>\n",
       "      <td>3.223566</td>\n",
       "      <td>0.845457</td>\n",
       "      <td>6</td>\n",
       "    </tr>\n",
       "    <tr>\n",
       "      <th>805</th>\n",
       "      <td>../data/8k-items/item-8-01/embeddings/2023/000...</td>\n",
       "      <td>[0.022999143, -0.016711706, 0.06586056, 0.0549...</td>\n",
       "      <td>Item 8.01. Other Events. \\n\\nOn July 6, 2023,...</td>\n",
       "      <td>000110820523000056</td>\n",
       "      <td>-0.097965</td>\n",
       "      <td>2.126203</td>\n",
       "      <td>10</td>\n",
       "    </tr>\n",
       "  </tbody>\n",
       "</table>\n",
       "<p>679 rows × 7 columns</p>\n",
       "</div>"
      ],
      "text/plain": [
       "                                             file_path  \\\n",
       "0    ../data/8k-items/item-8-01/embeddings/2023/000...   \n",
       "2    ../data/8k-items/item-8-01/embeddings/2023/000...   \n",
       "3    ../data/8k-items/item-8-01/embeddings/2023/000...   \n",
       "4    ../data/8k-items/item-8-01/embeddings/2023/000...   \n",
       "5    ../data/8k-items/item-8-01/embeddings/2023/000...   \n",
       "..                                                 ...   \n",
       "800  ../data/8k-items/item-8-01/embeddings/2023/000...   \n",
       "801  ../data/8k-items/item-8-01/embeddings/2023/000...   \n",
       "802  ../data/8k-items/item-8-01/embeddings/2023/000...   \n",
       "804  ../data/8k-items/item-8-01/embeddings/2023/000...   \n",
       "805  ../data/8k-items/item-8-01/embeddings/2023/000...   \n",
       "\n",
       "                                            embeddings  \\\n",
       "0    [-0.02210092, -0.015903888, 0.017384594, 0.030...   \n",
       "2    [0.07643277, 0.006872245, 0.07082075, 0.033274...   \n",
       "3    [0.020135557, 0.039088987, 0.05151445, 0.00129...   \n",
       "4    [0.0053011575, 0.047115248, 0.04658928, 0.0262...   \n",
       "5    [0.06891989, -0.0036731497, 0.038930554, 0.025...   \n",
       "..                                                 ...   \n",
       "800  [0.010682319, 0.02873441, 0.064966984, 0.00759...   \n",
       "801  [0.035607353, 0.013134976, 0.04448197, 0.01894...   \n",
       "802  [0.022473125, 0.012677313, 0.0005933445, 0.038...   \n",
       "804  [0.01852244, 0.012341683, 0.0021566546, 0.0156...   \n",
       "805  [0.022999143, -0.016711706, 0.06586056, 0.0549...   \n",
       "\n",
       "                                               content         accessionNo  \\\n",
       "0     Item 8.01. Other Events . \\n\\n&#8203; \\n\\nOn ...  000161198323000009   \n",
       "2     Item 8.01 Other Events. \\n\\nThe three paragra...  000111061123000014   \n",
       "3     Item 8.01. Other Events \\n\\nIn accordance wit...  000161869723000007   \n",
       "4     Item 8.01 Other Events \\n\\nCredit Agreement R...  000160971123000116   \n",
       "5     Item 8.01 Other Events \\n\\nOn February 24, 20...  000158773223000052   \n",
       "..                                                 ...                 ...   \n",
       "800   Item 8.01 Other Events. \\n\\nESTIMATED PER SHA...  000163297023000028   \n",
       "801   Item 8.01. Other Events \\n\\n(New York, NY) &#...  000143710723000121   \n",
       "802   ITEM 8.01 OTHER EVENTS. \\n\\nOn February 4, 20...  000101628123000048   \n",
       "804   Item 8.01 Other Events \\n\\nOn November 2, 202...  000104869523000032   \n",
       "805   Item 8.01. Other Events. \\n\\nOn July 6, 2023,...  000110820523000056   \n",
       "\n",
       "             x         y cluster  \n",
       "0     1.059331  3.693532      12  \n",
       "2    10.074734  4.479414       0  \n",
       "3     9.155782  3.657246       0  \n",
       "4    -0.282887  2.633082      10  \n",
       "5     9.369566  4.750178       0  \n",
       "..         ...       ...     ...  \n",
       "800  -1.729474  2.616675       8  \n",
       "801   2.174681  1.532412      11  \n",
       "802  -0.370978  1.858934      10  \n",
       "804   3.223566  0.845457       6  \n",
       "805  -0.097965  2.126203      10  \n",
       "\n",
       "[679 rows x 7 columns]"
      ]
     },
     "execution_count": 27,
     "metadata": {},
     "output_type": "execute_result"
    }
   ],
   "source": [
    "clusters_df"
   ]
  },
  {
   "cell_type": "code",
   "execution_count": null,
   "metadata": {},
   "outputs": [
    {
     "data": {
      "image/png": "[encoded data removed]",
      "text/plain": [
       "<Figure size 640x480 with 1 Axes>"
      ]
     },
     "metadata": {},
     "output_type": "display_data"
    }
   ],
   "source": [
    "import matplotlib.pyplot as plt\n",
    "\n",
    "plt.scatter(\n",
    "    clusters_df.x,\n",
    "    clusters_df.y,\n",
    "    c=clusters_df.cluster.astype(int),\n",
    "    alpha=0.6,\n",
    "    s=2,\n",
    "    cmap=\"tab20b\",\n",
    ")\n",
    "plt.axis(\"off\")\n",
    "plt.title(\"Clusters of 8-K filings\")\n",
    "plt.show()"
   ]
  },
  {
   "cell_type": "markdown",
   "metadata": {},
   "source": [
    "## Add Cluster Labels"
   ]
  },
  {
   "cell_type": "code",
   "execution_count": null,
   "metadata": {},
   "outputs": [
    {
     "name": "stderr",
     "output_type": "stream",
     "text": [
      "2025-04-29 03:37:08,745 - BERTopic - Dimensionality - Fitting the dimensionality reduction algorithm\n",
      "2025-04-29 03:37:10,491 - BERTopic - Dimensionality - Completed ✓\n",
      "2025-04-29 03:37:10,492 - BERTopic - Cluster - Start clustering the reduced embeddings\n",
      "2025-04-29 03:37:10,503 - BERTopic - Cluster - Completed ✓\n",
      "2025-04-29 03:37:10,505 - BERTopic - Representation - Fine-tuning topics using representation models.\n",
      "100%|██████████| 14/14 [00:20<00:00,  1.50s/it]\n",
      "2025-04-29 03:37:31,717 - BERTopic - Representation - Completed ✓\n"
     ]
    }
   ],
   "source": [
    "import openai\n",
    "from bertopic import BERTopic\n",
    "from bertopic.representation import OpenAI\n",
    "\n",
    "prompt = \"\"\"\n",
    "I have a topic that contains the following documents:\n",
    "[DOCUMENTS]\n",
    "\n",
    "The topic is described by the following keywords: [KEYWORDS]\n",
    "\n",
    "Based on the information above, extract a short topic label in the following format:\n",
    "topic: <short topic label>\n",
    "\"\"\"\n",
    "\n",
    "# update topic representations using GPT-4o-mini\n",
    "client = openai.OpenAI(api_key=OPENAI_API_KEY)\n",
    "\n",
    "representation_model = OpenAI(\n",
    "    client, model=\"gpt-4o-mini\", exponential_backoff=True, chat=True, prompt=prompt\n",
    ")\n",
    "\n",
    "topic_model = BERTopic(\n",
    "    representation_model=representation_model,\n",
    "    umap_model=umap_model,\n",
    "    hdbscan_model=hdbscan_model,\n",
    "    verbose=True,\n",
    ").fit(dataset['content'], np.array(dataset['embeddings'].tolist()))"
   ]
  },
  {
   "cell_type": "code",
   "execution_count": 44,
   "metadata": {},
   "outputs": [
    {
     "data": {
      "text/html": [
       "<div>\n",
       "<style scoped>\n",
       "    .dataframe tbody tr th:only-of-type {\n",
       "        vertical-align: middle;\n",
       "    }\n",
       "\n",
       "    .dataframe tbody tr th {\n",
       "        vertical-align: top;\n",
       "    }\n",
       "\n",
       "    .dataframe thead th {\n",
       "        text-align: right;\n",
       "    }\n",
       "</style>\n",
       "<table border=\"1\" class=\"dataframe\">\n",
       "  <thead>\n",
       "    <tr style=\"text-align: right;\">\n",
       "      <th></th>\n",
       "      <th>Topic</th>\n",
       "      <th>Count</th>\n",
       "      <th>Name</th>\n",
       "      <th>Representation</th>\n",
       "      <th>Representative_Docs</th>\n",
       "    </tr>\n",
       "  </thead>\n",
       "  <tbody>\n",
       "    <tr>\n",
       "      <th>0</th>\n",
       "      <td>-1</td>\n",
       "      <td>128</td>\n",
       "      <td>-1_Risks and Proposed Transactions in Corporat...</td>\n",
       "      <td>[Risks and Proposed Transactions in Corporate ...</td>\n",
       "      <td>[ Item 8.01 Other Events. \\n\\n&amp;#160; \\n\\nHS3 A...</td>\n",
       "    </tr>\n",
       "    <tr>\n",
       "      <th>1</th>\n",
       "      <td>0</td>\n",
       "      <td>136</td>\n",
       "      <td>0_Quarterly and Preferred Stock Dividends Anno...</td>\n",
       "      <td>[Quarterly and Preferred Stock Dividends Annou...</td>\n",
       "      <td>[ ITEM 8.01. &amp;#160; Other Events \\n\\nOn March ...</td>\n",
       "    </tr>\n",
       "    <tr>\n",
       "      <th>2</th>\n",
       "      <td>1</td>\n",
       "      <td>119</td>\n",
       "      <td>1_Stock Repurchase and Valuation Updates</td>\n",
       "      <td>[Stock Repurchase and Valuation Updates]</td>\n",
       "      <td>[ Item 8.01 Other Events. On February 27, 2023...</td>\n",
       "    </tr>\n",
       "    <tr>\n",
       "      <th>3</th>\n",
       "      <td>2</td>\n",
       "      <td>92</td>\n",
       "      <td>2_Bankruptcy Proceedings and Corporate Updates</td>\n",
       "      <td>[Bankruptcy Proceedings and Corporate Updates]</td>\n",
       "      <td>[ Item 8.01 &amp;#160; Other Events. \\n\\nOn Octobe...</td>\n",
       "    </tr>\n",
       "    <tr>\n",
       "      <th>4</th>\n",
       "      <td>3</td>\n",
       "      <td>91</td>\n",
       "      <td>3_Press Releases and Financial Announcements b...</td>\n",
       "      <td>[Press Releases and Financial Announcements by...</td>\n",
       "      <td>[ Item 8.01. Other Events. \\n\\nOn July 24, 202...</td>\n",
       "    </tr>\n",
       "    <tr>\n",
       "      <th>5</th>\n",
       "      <td>4</td>\n",
       "      <td>60</td>\n",
       "      <td>4_Executive Appointments and Board Changes in ...</td>\n",
       "      <td>[Executive Appointments and Board Changes in 2...</td>\n",
       "      <td>[ Item 8.01. Other Events. \\n\\n&amp;#160; \\n\\nOn D...</td>\n",
       "    </tr>\n",
       "    <tr>\n",
       "      <th>6</th>\n",
       "      <td>5</td>\n",
       "      <td>52</td>\n",
       "      <td>5_Notes Offerings and Debt Management</td>\n",
       "      <td>[Notes Offerings and Debt Management]</td>\n",
       "      <td>[ Item 8.01 Other Events. \\n\\nThe Company expe...</td>\n",
       "    </tr>\n",
       "    <tr>\n",
       "      <th>7</th>\n",
       "      <td>6</td>\n",
       "      <td>40</td>\n",
       "      <td>6_Clinical Trials and Drug Development Updates</td>\n",
       "      <td>[Clinical Trials and Drug Development Updates]</td>\n",
       "      <td>[ Item 8.01 Other Events. \\n\\nOn June 15, 2023...</td>\n",
       "    </tr>\n",
       "    <tr>\n",
       "      <th>8</th>\n",
       "      <td>7</td>\n",
       "      <td>25</td>\n",
       "      <td>7_Securities Offerings and Underwriting Agreem...</td>\n",
       "      <td>[Securities Offerings and Underwriting Agreeme...</td>\n",
       "      <td>[ Item 8.01. Other Information \\n\\nOn May 4, 2...</td>\n",
       "    </tr>\n",
       "    <tr>\n",
       "      <th>9</th>\n",
       "      <td>8</td>\n",
       "      <td>17</td>\n",
       "      <td>8_Annual Stockholder Meetings and Proposal Dea...</td>\n",
       "      <td>[Annual Stockholder Meetings and Proposal Dead...</td>\n",
       "      <td>[ Item 8.01 Other Events \\n\\nBARK, Inc. (the &amp;...</td>\n",
       "    </tr>\n",
       "    <tr>\n",
       "      <th>10</th>\n",
       "      <td>9</td>\n",
       "      <td>15</td>\n",
       "      <td>9_SVB and Signature Bank Closures Impact on Co...</td>\n",
       "      <td>[SVB and Signature Bank Closures Impact on Com...</td>\n",
       "      <td>[ Item 8.01 Other Events. \\n\\nTriplePoint Priv...</td>\n",
       "    </tr>\n",
       "    <tr>\n",
       "      <th>11</th>\n",
       "      <td>10</td>\n",
       "      <td>11</td>\n",
       "      <td>10_Nasdaq Listing Compliance Updates in 2023</td>\n",
       "      <td>[Nasdaq Listing Compliance Updates in 2023]</td>\n",
       "      <td>[ Item 8.01 Other Events. \\n\\nAs previously di...</td>\n",
       "    </tr>\n",
       "    <tr>\n",
       "      <th>12</th>\n",
       "      <td>11</td>\n",
       "      <td>11</td>\n",
       "      <td>11_Estimated NAV Valuations and Real Estate As...</td>\n",
       "      <td>[Estimated NAV Valuations and Real Estate Assets]</td>\n",
       "      <td>[ Item 8.01 Other Events. \\n\\nESTIMATED PER SH...</td>\n",
       "    </tr>\n",
       "    <tr>\n",
       "      <th>13</th>\n",
       "      <td>12</td>\n",
       "      <td>10</td>\n",
       "      <td>12_Settlement Agreements and Legal Proceedings</td>\n",
       "      <td>[Settlement Agreements and Legal Proceedings]</td>\n",
       "      <td>[ Item 8.01. Other Events. \\n\\nAs previously d...</td>\n",
       "    </tr>\n",
       "  </tbody>\n",
       "</table>\n",
       "</div>"
      ],
      "text/plain": [
       "    Topic  Count                                               Name  \\\n",
       "0      -1    128  -1_Risks and Proposed Transactions in Corporat...   \n",
       "1       0    136  0_Quarterly and Preferred Stock Dividends Anno...   \n",
       "2       1    119           1_Stock Repurchase and Valuation Updates   \n",
       "3       2     92     2_Bankruptcy Proceedings and Corporate Updates   \n",
       "4       3     91  3_Press Releases and Financial Announcements b...   \n",
       "5       4     60  4_Executive Appointments and Board Changes in ...   \n",
       "6       5     52              5_Notes Offerings and Debt Management   \n",
       "7       6     40     6_Clinical Trials and Drug Development Updates   \n",
       "8       7     25  7_Securities Offerings and Underwriting Agreem...   \n",
       "9       8     17  8_Annual Stockholder Meetings and Proposal Dea...   \n",
       "10      9     15  9_SVB and Signature Bank Closures Impact on Co...   \n",
       "11     10     11       10_Nasdaq Listing Compliance Updates in 2023   \n",
       "12     11     11  11_Estimated NAV Valuations and Real Estate As...   \n",
       "13     12     10     12_Settlement Agreements and Legal Proceedings   \n",
       "\n",
       "                                       Representation  \\\n",
       "0   [Risks and Proposed Transactions in Corporate ...   \n",
       "1   [Quarterly and Preferred Stock Dividends Annou...   \n",
       "2            [Stock Repurchase and Valuation Updates]   \n",
       "3      [Bankruptcy Proceedings and Corporate Updates]   \n",
       "4   [Press Releases and Financial Announcements by...   \n",
       "5   [Executive Appointments and Board Changes in 2...   \n",
       "6               [Notes Offerings and Debt Management]   \n",
       "7      [Clinical Trials and Drug Development Updates]   \n",
       "8   [Securities Offerings and Underwriting Agreeme...   \n",
       "9   [Annual Stockholder Meetings and Proposal Dead...   \n",
       "10  [SVB and Signature Bank Closures Impact on Com...   \n",
       "11        [Nasdaq Listing Compliance Updates in 2023]   \n",
       "12  [Estimated NAV Valuations and Real Estate Assets]   \n",
       "13      [Settlement Agreements and Legal Proceedings]   \n",
       "\n",
       "                                  Representative_Docs  \n",
       "0   [ Item 8.01 Other Events. \\n\\n&#160; \\n\\nHS3 A...  \n",
       "1   [ ITEM 8.01. &#160; Other Events \\n\\nOn March ...  \n",
       "2   [ Item 8.01 Other Events. On February 27, 2023...  \n",
       "3   [ Item 8.01 &#160; Other Events. \\n\\nOn Octobe...  \n",
       "4   [ Item 8.01. Other Events. \\n\\nOn July 24, 202...  \n",
       "5   [ Item 8.01. Other Events. \\n\\n&#160; \\n\\nOn D...  \n",
       "6   [ Item 8.01 Other Events. \\n\\nThe Company expe...  \n",
       "7   [ Item 8.01 Other Events. \\n\\nOn June 15, 2023...  \n",
       "8   [ Item 8.01. Other Information \\n\\nOn May 4, 2...  \n",
       "9   [ Item 8.01 Other Events \\n\\nBARK, Inc. (the &...  \n",
       "10  [ Item 8.01 Other Events. \\n\\nTriplePoint Priv...  \n",
       "11  [ Item 8.01 Other Events. \\n\\nAs previously di...  \n",
       "12  [ Item 8.01 Other Events. \\n\\nESTIMATED PER SH...  \n",
       "13  [ Item 8.01. Other Events. \\n\\nAs previously d...  "
      ]
     },
     "execution_count": 44,
     "metadata": {},
     "output_type": "execute_result"
    }
   ],
   "source": [
    "topic_model.get_topic_info()"
   ]
  },
  {
   "cell_type": "code",
   "execution_count": 45,
   "metadata": {},
   "outputs": [
    {
     "data": {
      "application/vnd.plotly.v1+json": {
       "config": {
        "plotlyServerURL": "https://plot.ly"
       },
       "data": [
        {
         "hoverinfo": "text",
         "hovertext": [
          "000170944223000014",
          "000149871023000183",
          "000130683023000058",
          "000176401323000150",
          "000181949323000268",
          "000182601823000018",
          "000168937523000008",
          "000177078723000031",
          "000171489923000103",
          "000127790223000028",
          "000182176923000102",
          "000153743523000090",
          "000113863923000201",
          "000010917723000032",
          "000178635223000029",
          "000118534823000011",
          "000174448923000206",
          "000135761523000137",
          "000160314523000010",
          "000164033423001812",
          "000171576823000090",
          "000169853023000084",
          "000175353923000024",
          "000092708923000009",
          "000145151223000068",
          "000171015523000057",
          "000114519723000055",
          "000156810023000048",
          "000172914923000170",
          "000112461023000004",
          "000181080623000108",
          "000119983523000619",
          "000147534823000012",
          "000126022123000075",
          "000126246323000066",
          "000165521023000098",
          "000130577323000032",
          "000159696123000039",
          "000162747523000016",
          "000109634323000188",
          "000178175523000015",
          "000171127923000037",
          "000137613923000038",
          "000157596523000025",
          "000156189423000118",
          "000170968223000051",
          "000174079723000055",
          "000158798723000126",
          "000102071023000095",
          "000181939423000015",
          "000110299323000023",
          "000106887523000040",
          "000180951923000045",
          "000172868823000051",
          "000171340723000107",
          "000154992223000013",
          "000145493823000042",
          "000116472723000035",
          "000143642523000038",
          "000132858123000090",
          "000116330223000080",
          "000147604523000062",
          "000150113423000050",
          "000134765223000010",
          "000151741323000370",
          "000126133323000002",
          "000150446123000024",
          "000116169723000038",
          "000133398623000017",
          "000103850923000025",
          "000154478423000013",
          "000136591623000075",
          "000129970923000315",
          "000149315223008011",
          "000182831823000193",
          "000157058523000457",
          "000178162923000020",
          "000163982523000067",
          "000140170823000258",
          "000176647823000136",
          "000147237523000084",
          "000001025423000164",
          "000141063623000048",
          "000149823323000080",
          "000179322923000011",
          "000104625723000072",
          "000107490223000097",
          "000160206523000097",
          "000132581423000145",
          "000147793223000100",
          "000178116223000004",
          "000181833123000030",
          "000111492723000002",
          "000159597423000002",
          "000100415523000002",
          "000180880523000084",
          "000182893723000105",
          "000142072023000030",
          "000112170223000071",
          "000102537823000074",
          "000140152123000088",
          "000156514623000009",
          "000180359923000107",
          "000181809323000008",
          "000138550823000036",
          "000108330123000024",
          "000148939323000028",
          "000129894623000072",
          "000173112223001134",
          "000180507723000009",
          "000166638423000017",
          "000105082523000107",
          "000130940223000070",
          "000177783523000014",
          "000179204423000021",
          "000103222023000061",
          "000136270523000075",
          "000146602623000003",
          "000146659323000165",
          "000142528723000089",
          "000142390223000059",
          "000100108223000034",
          "000151441623000050",
          "000178453523000034",
          "000103764623000027",
          "000105151223000049",
          "000180136823000011",
          "000139390523000387",
          null
         ],
         "marker": {
          "color": "#CFD8DC",
          "opacity": 0.5,
          "size": 5
         },
         "mode": "markers+text",
         "name": "other",
         "showlegend": false,
         "type": "scattergl",
         "x": {
          "bdata": "Oc6Kv0jim76Svci/JxTmP61mSEB+ciRAvW7FP29C3T/3D88/MZILv/08hj+1VAI/5WUiQDlUvTxUboG/KepHvykfzz5NjT0+zB6XPxeH3j8G9zA+XeChPyZCI0BbqhxA6U8Lv6IFrj1zaJ8/vaQGPY3k1z8gqds+M0p2v3PWJr7RL0S/gSoDP9ylKUA05Z0/YCA1vxXDz7/4/q0+cGYTv8pZzr/XsaI+7U8UQJU8O0A1sE9AxBWlvs0hLUBP+CZAOt/NP6bxI0BLNTM9yHk4QHgceT47iJQ9KJsbQEiCpr+7rCdA1oLOvwphTkC48g9AmjkWQLEnyD+FeKU/IqJVQJUD2z0LwCJAgIO+Pj4W1j+Jw86/rK/Lv3M6+j/WQFA/7nquP4r3H0D1DgxA/Zx0P2GVJkD3BiNA++OgP+dlpT88KS6/Cto9vzLRjb9oZUZAGW9xv2TO8z/elh9AkdsDQCkuyr7s4iZAvm8TQCZCQEB8yyZAI+lUP2mOkr+OPZw/wiLHv08GAD/Thu4/7jzMP793l79kA6G/8nUwv6xoLD/A7i2/xPzyP91Szb+R0BdACFQ6QK6vmz87Aha/kITPvyWZNr8NBWy/4obsPywShr8wBUhA2w67P4+Pib+yI1NA2xNmP/DNFUAxkIE+/UvDP2/pzL9/UBVA2YIkQANjBUBAMWg/",
          "dtype": "f4"
         },
         "y": {
          "bdata": "XDsKQDxLGECZEdk/7kNuP0/hR0DwOXhA8QIVQOjYoD96e10/WZ59QDFRUkBcNlpAC4/xP0q/aEAkbfo/PppVQHE/OECNcVxAw4hUQJVq0D+KyO8/4mWiP74gd0CuyyVAZjpbQEIxNECylb4/O5Y1QH6M4T+7zThAH6AsQFgRQkCtZSxAcMEOQD6LuT+ra9o/Z6svQO1E1D8k+WlANdZ3QFp71T8CNABAjglBQGrLzD9OmPI/JMMgQKWFqT9L4nVAtFIVQOv2dUA2gzNAMGK9P3ZQNEB4b0JAsbTpP4RXIEBFTDJAk9nVP1dhQEAnaC5AoVb4P3SbFECp35w/W/v3P3B9PUAxmXVAA0pYQKNLtj/RLNU/7z7ZP7Pdgj/OFvA/x5wpQDUlHkBThvI/y2VpQMFEpD9/8ixAbEKfPweDGkCsUTBAW7AsQKnmG0B6iUVApbslQInGIEAKgzBA7YE3QH3TcEBEI3ZAJ7AnQA74Q0Dp4TpAN7HvP2MHGEB/t6o/CWPeP9PhXEA3RZ4/FN8XQAVVEUC47iBAZaspQAlzJkBH6SlAlgNCQHp01j8CvyFArmY1QODM0D/S1TdAUebUP49JMkCcvyZA8FN5P4THBkCxrUZAru0VQNl3HUDptfg/cBtdQPoC3z+jFV1AjlJUQCBx1z/MzNo/U2F2QOgo5j9yYR1A",
          "dtype": "f4"
         }
        },
        {
         "hoverinfo": "text",
         "hovertext": [
          "000127618723000078",
          "000140316123000027",
          "000160402823000047",
          "000140347523000054",
          "000101748023000124",
          "000164973923000014",
          "000175392623001280",
          "000136785923000034",
          "000135059323000044",
          "000151871523000187",
          "000102312823000064",
          "000141266523000043",
          "000176096523000032",
          "000172895123000091",
          "000155507423000037",
          "000010898523000108",
          "000143707123000009",
          "000163565023000065",
          "000141344723000076",
          "000140205723000168",
          "000157112323000016",
          "000131539923000085",
          "000130516823000010",
          "000106472823000101",
          "000108906323000122",
          "000191027723000008",
          "000141134223000042",
          "000142820523000025",
          "000160530123000019",
          "000116977023000015",
          "000147384423000062",
          "000161724223000037",
          "000154111923000038",
          "000182394523000048",
          "000145285723000022",
          "000111061123000014",
          "000155227523000018",
          "000163622223000118",
          "000110121523000075",
          "000163598423000038",
          "000169442623000089",
          "000128994523000034",
          "000147584123000038",
          "000100470223000002",
          "000101839923000089",
          "000146212023000009",
          "000105350723000048",
          "000114036123001944",
          "000175676123000111",
          "000169206323000134",
          "000146653823000003",
          "000154244723000071",
          "000100125023000052",
          "000112737123000148",
          "000144979423000019",
          "000138166823000057",
          "000120626423000202",
          "000107123623000058",
          "000127368523000105",
          "000162045923000090",
          "000151691223000133",
          "000010714023000093",
          "000173434223000047",
          "000133806523000018",
          "000147409823000169",
          "000010203723000019",
          "000107777123000003",
          "000112836123000036",
          "000181735823000031",
          "000175073523000081",
          "000104097123000043",
          "000094337423000518",
          "000182837623000003",
          "000158773223000052",
          "000144948823000009",
          "000100522923000201",
          "000135208123000031",
          "000172008823000014",
          "000137145123000025",
          "000100443423000004",
          "000182139323000068",
          "000140853423000063",
          "000010275223000085",
          "000141105923000043",
          "000146205623000170",
          "000105635823000045",
          "000165588723000056",
          "000141813523000015",
          "000161869723000007",
          "000104602523000013",
          "000106039123000002",
          "000113754723000177",
          "000103297523000072",
          "000101984923000007",
          "000154934623000029",
          "000151428123000128",
          "000140325623000045",
          "000149269123000010",
          "000010513223000112",
          "000010373023000070",
          "000169903923000096",
          "000117152023000254",
          "000133146523000188",
          "000106770123000012",
          "000103130823000007",
          "000138331223000016",
          "000173016823000062",
          "000164587323000207",
          "000111800423000002",
          "000172308923000016",
          "000160690923000013",
          "000116360923000006",
          "000182116023000063",
          "000161869623000009",
          "000150573223000198",
          "000121254523000008",
          "000100263823000021",
          "000173098423000093",
          "000103120323000042",
          "000117494723001399",
          "000137904123000061",
          "000103968423000054",
          "000167398523000068",
          "000136153823000005",
          "000131994723000011",
          "000153577823000068",
          "000156067223000073",
          "000162594123000016",
          "000128930823000012",
          "000137367023000049",
          "000174706823000074",
          "000010359523000018",
          "000138365023000047",
          "000182126823000192",
          "000157601823000062",
          "000134131823000011"
         ],
         "marker": {
          "opacity": 0.5,
          "size": 5
         },
         "mode": "markers+text",
         "name": "0_Quarterly and Preferred Stock Dividends Announcements for 2023",
         "text": [
          "",
          "",
          "",
          "",
          "",
          "",
          "",
          "",
          "",
          "",
          "",
          "",
          "",
          "",
          "",
          "",
          "",
          "",
          "",
          "",
          "",
          "",
          "",
          "",
          "",
          "",
          "",
          "",
          "",
          "",
          "",
          "",
          "",
          "",
          "",
          "",
          "",
          "",
          "",
          "",
          "",
          "",
          "",
          "",
          "",
          "",
          "",
          "",
          "",
          "",
          "",
          "",
          "",
          "",
          "",
          "",
          "",
          "",
          "",
          "",
          "",
          "",
          "",
          "",
          "",
          "",
          "",
          "",
          "",
          "",
          "",
          "",
          "",
          "",
          "",
          "",
          "",
          "",
          "",
          "",
          "",
          "",
          "",
          "",
          "",
          "",
          "",
          "",
          "",
          "",
          "",
          "",
          "",
          "",
          "",
          "",
          "",
          "",
          "",
          "",
          "",
          "",
          "",
          "",
          "",
          "",
          "",
          "",
          "",
          "",
          "",
          "",
          "",
          "",
          "",
          "",
          "",
          "",
          "",
          "",
          "",
          "",
          "",
          "",
          "",
          "",
          "",
          "",
          "",
          "",
          "",
          "",
          "",
          "",
          "",
          ""
         ],
         "textfont": {
          "size": 12
         },
         "type": "scattergl",
         "x": {
          "bdata": "bp4ZQW7DHUGAkBRB0QcQQaCfF0G9+iJBk6MaQXZrIUHQWBlBc5IVQaH9HkFZQCFB2XMXQU2WF0EVnhdBNjsXQcluIUFOdRlBUJ8XQWVzFEHS2R5ByzkPQbRgIkHzjxlBTKMaQb+/IUET6B9Bw3QdQSyWIUEbcg5Bpe0TQTdxGkEBzxVB9fcbQXgpGkEcMiFB/IIZQaWzFkFBvB9BdZMVQb+DFkHLtyBBlPYSQZuHIkFN2hVBziYhQQgrF0F3kQ9BMacUQYWAHEF/TiJBvawUQQL2HEHTCRBBKkIQQVopD0FLTBVBL0QeQZT8EEHS/yFBDL4aQSyqFkGu7xlBKKAXQZBeEUE/ERhBihYhQa4XGkENESJBAhYXQRpZFUHziAxB0QQiQb7pFUF5BhlBqcsZQWbQGUHhNiBBlWsZQQ7BIEEOmhlBuSkZQeJ3F0GkBxVB36IdQSElFkFfaSBBlYQbQRV+EkH8PyJBdmghQbqZE0EJRhxB6+YXQSlEHEGgARNBPkkdQY5+IkG7ThJB9WIXQbbyGkGpFRRBVdIVQXYXJEGjmRtBGJYhQfr3IEHexhRBbNwPQcCRI0GI3x1BTeMZQTFmHEEZMBJByUITQcxvIUG6jxpBhZ4PQS4/FUGumhBBlFEgQXl0GkFr6h9BCkgjQa57HUE4exFB6ukTQXGhDkHwoCBBS1obQQ+GFUHJEB1BpOwZQUzeEUHXFSRBwiMQQQ==",
          "dtype": "f4"
         },
         "y": {
          "bdata": "VkpVQGQybkDyWZBAhvmYQAN9k0A/B4xAm5p1QIv+hEDvxYxANnOYQLw5kkAQvotA81WUQEpAjkAV2H9ARiSUQLcbjUCdIVdAM66IQG7/lkD5AoxATlGaQCe+jUCv5IpAGcGJQLmviUC00oRAXyeBQOonjkBcYp1AEUCSQORUjEAMUJhAg89yQA78WEBcV49AJL1YQCFukkCdgZBAlV+QQCsik0CO049AXS+XQLn3fkCXn5FA08OCQHEYbEDVeptAAbNuQIO1dEAIV3tA3A5oQAaicUCwaJhAWUKaQDLkj0AcTpRASRCQQCE+hkDYi49AHZONQB2TikDSHJBAVuFYQLU9h0BDC4VAylqEQPRVi0BGJotAeeyTQHnTkkDfC5xAds2CQHYBmEDGBFpA0sCNQDRxXkDOApFAwh1cQOs5g0C02oZABAttQOZBjUAIIWxAeOlvQAJah0AtwIRAovCMQFMQakDD2odAIluIQHh1lUAR9pJADbSLQHOLjUA7rYdAB1JxQNuzg0B68IpAHdGOQAKGdUBaVWRAns+OQOqDg0BEX4BAtT6GQFsHkUAoFYRAqomaQN/dh0BJ1YpAHBpdQKY8dkCFhmlAV8eUQK6+dkDotJNA7O2VQNfXkECUHZhADxWQQCHTjkC1x5FAPPGBQJR8b0BTFpZA/mKIQGIMgkDzYoZAoVZqQOL7mEDKTXFAhdhUQEfYZkBbVIpAY/CYQA==",
          "dtype": "f4"
         }
        },
        {
         "hoverinfo": "text",
         "hovertext": [
          "000001691823000199",
          "000187524623000016",
          "000132760723000047",
          "000182299323000006",
          "000174390723000022",
          "000175963123000122",
          "000104180323000042",
          "000166028023000155",
          "000117760923000025",
          "000161764023000088",
          "000139718723000051",
          "000174879023000005",
          "000179919123000040",
          "000109181823000007",
          "000126165423000149",
          "000126723823000054",
          "000109531523000019",
          "000107173923000215",
          "000180166123000041",
          "000102207923000006",
          "000164289623000004",
          "000107041223000090",
          "000153095023000179",
          "000010198423000055",
          "000179451523000055",
          "000132680123000008",
          "000106528023000272",
          "000161755323000025",
          "000158296123000004",
          "000173472223000054",
          "000137005323000010",
          "000159991623000178",
          "000010272923000065",
          "000107742823000002",
          "000138282123000182",
          "000167193323000026",
          "000128703223000058",
          "000132756723000035",
          "000093905723000199",
          "000136382923000021",
          "000101473923000007",
          "000141953623000070",
          "000170472023000052",
          "000169913623000085",
          "000181623323000103",
          "000101447323000032",
          "000182352923000154",
          "000130449223000056",
          "000157056223000068",
          "000136495423000148",
          "000163212723000028",
          "000182986423000060",
          "000156470823000537",
          "000129594723000014",
          "000155278123000281",
          "000171129123000025",
          "000157909123000009",
          "000103982823000042",
          "000089843223000052",
          "000001469323000155",
          "000147772023000006",
          "000112494123000009",
          "000110068223000025",
          "000148298123000101",
          "000122460823000020",
          "000135201023000006",
          "000111192823000132",
          "000142492923000150",
          "000160064123000160",
          "000181981023000097",
          "000166607123000155",
          "000146310123000138",
          "000010416923000013",
          "000100581723000007",
          "000166145823000004",
          "000139388323000058",
          "000116337023000007",
          "000109714923000005",
          "000107553123000005",
          "000166299123000184",
          "000105809023000026",
          "000145293623000053",
          "000167564423000034",
          "000174970423000048",
          "000181428723000053",
          "000107261323000364",
          "000107068023000026",
          "000156246323000121",
          "000010577023000004",
          "000001220823000058",
          "000163159623000007",
          "000180297423000028",
          "000142293023000006",
          "000109355723000222",
          "000152754123000075",
          "000149322523000086",
          "000144766923000025",
          "000179466923000008",
          "000156440823000050",
          "000142386923000003",
          "000137371523000220",
          "000109921923000156",
          "000105370623000006",
          "000165037223000005",
          "000167770323000038",
          "000168316823000500",
          "000140247923000064",
          "000174882423000062",
          "000168024723000041",
          "000117739423000003",
          "000182252323000019",
          "000156215123000006",
          "000128613923000130",
          "000148243023000009",
          "000101905623000162",
          "000168504023000075",
          "000156276223000035",
          "000152254023000023",
          "000161417823000071"
         ],
         "marker": {
          "opacity": 0.5,
          "size": 5
         },
         "mode": "markers+text",
         "name": "1_Stock Repurchase and Valuation Updates",
         "text": [
          "",
          "",
          "",
          "",
          "",
          "",
          "",
          "",
          "",
          "",
          "",
          "",
          "",
          "",
          "",
          "",
          "",
          "",
          "",
          "",
          "",
          "",
          "",
          "",
          "",
          "",
          "",
          "",
          "",
          "",
          "",
          "",
          "",
          "",
          "",
          "",
          "",
          "",
          "",
          "",
          "",
          "",
          "",
          "",
          "",
          "",
          "",
          "",
          "",
          "",
          "",
          "",
          "",
          "",
          "",
          "",
          "",
          "",
          "",
          "",
          "",
          "",
          "",
          "",
          "",
          "",
          "",
          "",
          "",
          "",
          "",
          "",
          "",
          "",
          "",
          "",
          "",
          "",
          "",
          "",
          "",
          "",
          "",
          "",
          "",
          "",
          "",
          "",
          "",
          "",
          "",
          "",
          "",
          "",
          "",
          "",
          "",
          "",
          "",
          "",
          "",
          "",
          "",
          "",
          "",
          "",
          "",
          "",
          "",
          "",
          "",
          "",
          "",
          "",
          "",
          "",
          "",
          "",
          ""
         ],
         "textfont": {
          "size": 12
         },
         "type": "scattergl",
         "x": {
          "bdata": "aDg9QGLfWkDQA15AQtlaQCOBRkDH3CxA3S9IQJFxQUAXtD1AvKtEQKcQSUAxAVFA5wBRQFeeOkCwPktA1kksQNzbSUA/jzNA+FJZQKaAXUAreFdA4TZLQCXAPkD8xkdARtA1QLySYUBMZkdAr65jQKc1TkB0wmBAydNiQPEcSUCRzzlA43JSQF90KkBmyFpAl3tZQIrgQ0Bo9TJAgfdRQDcuUUDmskZAO9I5QBb+YUBWzi9Alyc+QIyWMUBVJl9AmvZbQEhrKUAVUWJADzJVQPcKYUAa6EJApDJOQEJLU0AaSFBALd9dQJXRV0CEulNAITdnQGuKU0DJX1NAJBpOQGsjMUCn1zJAg4NaQD33SUBihkxA8ZNJQNmVO0ADz1lA1RVcQG6pUEBP9jBAIyEyQG2YM0AwZjlAIxZZQKE5L0BUuS9AfeEyQJzCRkBFSWBAs4E7QF0MSUCdR0VA7a1KQPm6VEB/FE5AICdUQGeFLEDiXWNA2tBbQF/OUkB1dE5AxvFWQM4iX0A2N1BAh+lSQJ2AQkD7+S1AAropQMqRZkC2bi1Aa/hSQACbZkCfqUpAPKs1QMpIOECu+GFAGiVXQG8KP0DvpjJA5+VTQOYxQkAjqUNArHRiQMoyUkA=",
          "dtype": "f4"
         },
         "y": {
          "bdata": "6YvdQL3wp0DCbJVAIPCdQCBm2UBWU8hADnTbQEoA0ECCe9ZAZN/bQDLO20BhvdJAvfHPQO9rwkCLV6xAVk7HQNFhyUA/LNJAy56fQLxOpkDHeLVAwr/WQDnu3EA+o9dA5WDOQPUg2EBlsN1AiQ/CQIFx1kBf+tVATBDPQFKfpkAXKcFAUlTSQAY/00Dj+aJAxo2kQCIX30B1P8dAfrjQQEaM00CtH8tAley8QDZSwUDp4LxAXBPZQAQ5yUDTfNNACCKiQKRixECEVpZAXxPSQAsu0EDG3s9AVKS3QPaXskBN9s9ASH3GQKEetkDnqNRALQy+QDFazUDFHLFASpPZQPVq0UABLslA1Be3QOOo3EAr8NRAUsqaQNztwUDR8bxACMm3QGucn0Cut61AjJ3PQCBIxECjntBAo7K2QNBbxUDbcdJAGKOvQOmnxEBhMddA7hzFQN3vykBOLMpAUKG3QO6z1kAYH85AZNfOQAIqxUAZ5NVAOFfKQCtHoEDhzstAB5rVQG3mwEBm59tA4s+vQOAM20AOAtFAu7PQQA551UCz8clAZqfNQOzdz0Ak+dhA5O7LQB0P0UDBMdlArHG4QM8M1kC3a69A4OTIQOLE1kBX7sVAdXfXQPCb1kA=",
          "dtype": "f4"
         }
        },
        {
         "hoverinfo": "text",
         "hovertext": [
          "000170305723000047",
          "000153592923000004",
          "000161766923000042",
          "000117492223000149",
          "000101628123000048",
          "000164559023000002",
          "000095012723000002",
          "000105151423000022",
          "000136246823000046",
          "000117120023000409",
          "000174502023000073",
          "000094787123000464",
          "000156459023001312",
          "000110130223000008",
          "000134512623000056",
          "000125860223000028",
          "000180117023000063",
          "000101738623000139",
          "000178456723000017",
          "000095015923000155",
          "000161068223000045",
          "000159303423000033",
          "000156168023000088",
          "000155485923000040",
          "000179874923000045",
          "000104581023000217",
          "000140810023000099",
          "000171218423000153",
          "000182867223000003",
          "000120864623000097",
          "000160971123000116",
          "000130774823000010",
          "000188852423006759",
          "000182600023000082",
          "000174374523000054",
          "000171851223000016",
          "000112148423000080",
          "000160397823000032",
          "000169082023000243",
          "000089262623000028",
          "000117891323003939",
          "000138865823000070",
          "000159238623000062",
          "000100865423000027",
          "000110820523000056",
          "000102345923000009",
          "000141389823000020",
          "000161740623000006",
          "000102891823000127",
          "000091412123000139",
          "000160793923000181",
          "000147620423000043",
          "000133187523000064",
          "000103220823000040",
          "000181375623000064",
          "000141038423000046",
          "000010919823000019",
          "000169466523000061",
          "000150157023000170",
          "000161883523000018",
          "000159097623000053",
          "000173128923000286",
          "000100683723000003",
          "000165642323000003",
          "000183003323000086",
          "000181984823000167",
          "000127381323000048",
          "000109980023000042",
          "000092963823003485",
          "000160171223000314",
          "000171218923000088",
          "000182957623000058",
          "000164148923000079",
          "000119380523000799",
          "000139331123000086",
          "000177562523000089",
          "000162828023003921",
          "000115846323000023",
          "000109269923000011",
          "000107820723000130",
          "000171840523000055",
          "000137063723000091",
          "000149028123000114",
          "000116924523000009",
          "000156646923000004",
          "000131856823000060",
          "000153949723000389",
          "000106505923000055",
          "000129913023000010",
          "000173994223000079",
          "000177878423000012",
          "000159558523000015"
         ],
         "marker": {
          "opacity": 0.5,
          "size": 5
         },
         "mode": "markers+text",
         "name": "2_Bankruptcy Proceedings and Corporate Updates",
         "text": [
          "",
          "",
          "",
          "",
          "",
          "",
          "",
          "",
          "",
          "",
          "",
          "",
          "",
          "",
          "",
          "",
          "",
          "",
          "",
          "",
          "",
          "",
          "",
          "",
          "",
          "",
          "",
          "",
          "",
          "",
          "",
          "",
          "",
          "",
          "",
          "",
          "",
          "",
          "",
          "",
          "",
          "",
          "",
          "",
          "",
          "",
          "",
          "",
          "",
          "",
          "",
          "",
          "",
          "",
          "",
          "",
          "",
          "",
          "",
          "",
          "",
          "",
          "",
          "",
          "",
          "",
          "",
          "",
          "",
          "",
          "",
          "",
          "",
          "",
          "",
          "",
          "",
          "",
          "",
          "",
          "",
          "",
          "",
          "",
          "",
          "",
          "",
          "",
          "",
          "",
          "",
          ""
         ],
         "textfont": {
          "size": 12
         },
         "type": "scattergl",
         "x": {
          "bdata": "9NgYPPU3Pr9P87++mu65PdPwvb6MWgs+/gfpPab3ar7+/pe+Ndpbvm7fsL5cLcm+hYuau9iMmD73TWE9LVZmuzoPm76H5CG/pgmRvqK8P746Ab6+azQhv18ofr7XV6a+6DQxvl6xwL7PYb6+hFgnvhCtkL4LFtS9i9aQvlrfN7y/Yje+Tg0Lv6I8K77UQIO/ytpcvsTFK78VkpG9mURnv710Gb88aJ6+LJnbPbmwV7/goci9afP3vkJqvb7dq/q+VK9av8HSoj1LKS2+ccBJviOrhL95IXO/SaOSvhBFE74Sc1K+xhuIvpkM575eSlG+jMpXvwTHw77mlUi7qDIyviFZEb+1fc49JUcGvqO4nr7AaCm/rjw/PbVGvL4GYW+/UdOAviunM795yf6+jkQKv9HtNr4fo7O+w9aVvip7or6L21+/KKjGvlIVu75HYDG/U6qQvjj6Lj40lTK/xMpwPscxWTw8nIO/hstgv8fIMr8=",
          "dtype": "f4"
         },
         "y": {
          "bdata": "Q1rQP83iEkBU4yVAS/QVQIvx7T8DjSNAE0c8QP7T7T9kOi9ACO4GQIKp8z/KwRJAmVIJQAOSFkAgFRFA6dxOQHRx6T/MlA5A2js8QIl9XUAuIvs/y1AEQBMOK0BkvgBA+b8KQHkfEEBaejFAyFlUQNbiAkDh9VhAaoQoQLkPOEDqvVtAVjn9Pz8vSUBE4gRAfREGQCKoDkCMSApAoK4aQD807T+zEeQ/uX8OQFZ0B0C0EwhAhhQSQCGd+T/T2jJAq+YRQHYgXEDnROI/gFYqQMnHBkCFjhpA9a/xP6sKJkCLZF5A+ilDQPSOFEDUFeY/FCsyQLqj+j8HukxApFheQPNmGkAQPhZA01slQMaqAkC8OghAYGMTQHKYMECnaBlA/EHyP8gIC0BJfxZAmtj7PxZ9R0BmyhRAALnoPwCuAkB33yRASZH7PwoBF0AzbQZAqDEfQGczDEC8ciFABIYVQJK5FkBpNAlAjigUQPVIAEA=",
          "dtype": "f4"
         }
        },
        {
         "hoverinfo": "text",
         "hovertext": [
          "000164511323000041",
          "000172243823000086",
          "000149090623000021",
          "000110168023000096",
          "000121070823000101",
          "000127653123000008",
          "000141210023000054",
          "000127473723000002",
          "000112623423000031",
          "000156792523000049",
          "000138150723000039",
          "000152013823000298",
          "000109991023000225",
          "000131415223000093",
          "000116692823000029",
          "000151730223000009",
          "000126760223000018",
          "000155479523000156",
          "000158176023000116",
          "000177912823000007",
          "000103939923000040",
          "000115752323001407",
          "000110842623000037",
          "000128846923000105",
          "000109690623001019",
          "000180391423000099",
          "000140819823000050",
          "000137251423000125",
          "000111316923000049",
          "000100291023000089",
          "000107997323001354",
          "000165495423001714",
          "000136060423000091",
          "000139834423002101",
          "000165204423000034",
          "000164708823000007",
          "000151655123000018",
          "000112534523000045",
          "000157408523000080",
          "000129718423000057",
          "000182885223000133",
          "000166357723000063",
          "000160706223000359",
          "000176783723000004",
          "000139644023000014",
          "000100888623000024",
          "000136425023000035",
          "000168087323000020",
          "000185173423000085",
          "000107023523000070",
          "000001493023000134",
          "000153871623000109",
          "000105044123000113",
          "000117625623000149",
          "000178994023000075",
          "000160675723000013",
          "000135968723000020",
          "000143472823000056",
          "000182872323000139",
          "000163765523000003",
          "000149523123000226",
          "000172358023000018",
          "000106823823000211",
          "000143710723000121",
          "000089457923000191",
          "000010488923000036",
          "000103786823000030",
          "000121465923002873",
          "000165355823000087",
          "000171893923000016",
          "000117351423000063",
          "000167128423000041",
          "000104013023000020",
          "000160649823000052",
          "000089914023001157",
          "000140282923000032",
          "000146625823000199",
          "000001484623000042",
          "000152195123000003",
          "000112097023000060",
          "000114487923000161",
          "000109605623000043",
          "000151597123000022",
          "000145368723000070",
          "000149465023000077",
          "000010119923000083",
          "000190359623000145",
          "000152276723000004",
          "000144168323000012",
          "000102430523000042",
          "000154565423000032"
         ],
         "marker": {
          "opacity": 0.5,
          "size": 5
         },
         "mode": "markers+text",
         "name": "3_Press Releases and Financial Announcements by Company in 2023",
         "text": [
          "",
          "",
          "",
          "",
          "",
          "",
          "",
          "",
          "",
          "",
          "",
          "",
          "",
          "",
          "",
          "",
          "",
          "",
          "",
          "",
          "",
          "",
          "",
          "",
          "",
          "",
          "",
          "",
          "",
          "",
          "",
          "",
          "",
          "",
          "",
          "",
          "",
          "",
          "",
          "",
          "",
          "",
          "",
          "",
          "",
          "",
          "",
          "",
          "",
          "",
          "",
          "",
          "",
          "",
          "",
          "",
          "",
          "",
          "",
          "",
          "",
          "",
          "",
          "",
          "",
          "",
          "",
          "",
          "",
          "",
          "",
          "",
          "",
          "",
          "",
          "",
          "",
          "",
          "",
          "",
          "",
          "",
          "",
          "",
          "",
          "",
          "",
          "",
          "",
          "",
          ""
         ],
         "textfont": {
          "size": 12
         },
         "type": "scattergl",
         "x": {
          "bdata": "9DkFQNtiN0CIoDZAhA0pQCc5LEC0ujRA/6gmQPZ8C0AcdgJA6LpDQGxGIkCsOiNAMz83QFqgFUDsV0VA1Uc3QK30I0CZoO4/rJxGQGfGPkCHByVA6uA4QM8bKkBbNgtAfA8wQIJrB0C18A1AD20tQCiGN0CRZS5A5RMHQN7OOkAKHzVAkostQBpeF0Bd3A5AdyEJQChJH0CCMUJAG5UIQOMcJkCQrT9Ad+ImQGO3OkDk5S9Af00kQLwOLUCnUyZAloQNQNghHkDfFyBAzpxGQF5VIUD9Cy9AIh4oQC/aOkCi9QxAqC36PxO1DEAiHh9AU60lQB8f5z9BvERA+y0LQE6hHEBEFB1ABVUjQJ2cLECDOwlAuz0WQEpARUAwv/o/OegJQKk2MUDt6DZAcaQyQN1vFEA7xTpArYsvQBecMUDhwCNAlwEUQIYdNEAC+B1A9h4NQB5fDUC/Tx5AunshQIFaNkDXzxJAJI07QA==",
          "dtype": "f4"
         },
         "y": {
          "bdata": "wDulP1d12T8Mqu4/jZPpP/hh5z/hV+M/NrPgPwMukz95obM/4EsXQDHazj8n3NA/SM7NP2bz0z8WXB1AkWbmP13iCUCYsAVAeDkXQK9nC0D9xhFA4I3OP1AG4D8gSp4/aSXtPwQdE0AMYxVAmJXWP0063D/pbQRAv5O2P2FMyD/kbwlAVhrxP2bV5D/cMBNAC2URQCQUIEB/mBJAOUgMQHGa4z/o+wBAbvPxP/cY7T/ndvI/nIITQBvl+D/Omcc/LmMRQMZzCkAhY/4/O7IXQHbP3j+OVbA//vL9P98HB0BrMv8/TJbtP0fRCUBQUg1AU58LQMmm/j83Ph1AFSbEP0Op5z8Ql+E/NzHuP5RLA0Dn0gRAa6XVP2auCUCPKA9A9OwXQANt5j+hzMU/Ni0UQAze3D9R8ANA0wP/PyAbpj/Hn8o/D/vQP2wqvz814fE/VZSXP0vCxT/rew1AMJoJQNW8AUAROZ8/n40UQA==",
          "dtype": "f4"
         }
        },
        {
         "hoverinfo": "text",
         "hovertext": [
          "000181939523000125",
          "000135657623000056",
          "000104869523000032",
          "000105147023000012",
          "000113071323000091",
          "000095014223001084",
          "000160062023000027",
          "000179490523000027",
          "000181951623000007",
          "000168162223000016",
          "000113342123000041",
          "000174707923000054",
          "000147126523000105",
          "000128555023000048",
          "000121390023001523",
          "000139681423000045",
          "000159653223000324",
          "000102056923000124",
          "000001823023000058",
          "000150629323000172",
          "000108499123000104",
          "000159767223000015",
          "000170160523000056",
          "000179478323000026",
          "000151515623000092",
          "000111133523000034",
          "000114085923000077",
          "000111314823000012",
          "000010956323000036",
          "000163642223000034",
          "000160062623000133",
          "000182853623000002",
          "000115817223000010",
          "000178217023000111",
          "000137128523000019",
          "000150595223000007",
          "000153072123000003",
          "000171658323000018",
          "000180770723000095",
          "000102583523000015",
          "000170694623000066",
          "000177151523000042",
          "000106569623000113",
          "000148881323000103",
          "000167968823000064",
          "000152839623000048",
          "000150400823000021",
          "000094039423000015",
          "000175965523000100",
          "000122765423000093",
          "000089882223000012",
          "000165194423000084",
          "000104952123000043",
          "000179920823000028",
          "000159158723000040",
          "000146737323000382",
          "000177947423000072",
          "000170775323000062",
          "000153826323000054",
          "000157454023000177"
         ],
         "marker": {
          "opacity": 0.5,
          "size": 5
         },
         "mode": "markers+text",
         "name": "4_Executive Appointments and Board Changes in 2023",
         "text": [
          "",
          "",
          "",
          "",
          "",
          "",
          "",
          "",
          "",
          "",
          "",
          "",
          "",
          "",
          "",
          "",
          "",
          "",
          "",
          "",
          "",
          "",
          "",
          "",
          "",
          "",
          "",
          "",
          "",
          "",
          "",
          "",
          "",
          "",
          "",
          "",
          "",
          "",
          "",
          "",
          "",
          "",
          "",
          "",
          "",
          "",
          "",
          "",
          "",
          "",
          "",
          "",
          "",
          "",
          "",
          "",
          "",
          "",
          "",
          ""
         ],
         "textfont": {
          "size": 12
         },
         "type": "scattergl",
         "x": {
          "bdata": "ALtSQCYkWUDpTk5A8sNhQFdLUEDawXlAEc5GQESyfUDPP1xAK+t7QJQsYEAQYmlA2zF4QHhVaECOU1tA2L2JQH51ckBLdIFAAuJiQBTdW0Dc92JA93dkQORIdkCuuV1Agd1bQAGjb0DWfnFATxtnQFueW0CnYFpA6SFXQH54XEA1/GpAgQKAQMuNhkAxvl9ASctdQB1cfUC/6HBApE57QHYCcED77n5AaJxgQM9lekCQI19AwfhdQG2IYUAPpIRAwzOLQEbMa0DI2FdAZJFdQIhJg0D0ImBAQk9aQMpNYkAXnG1A3D1kQIosfkAVXmNA",
          "dtype": "f4"
         },
         "y": {
          "bdata": "wVpBP76ZLz/cb1g/6gNbPw2CaT8OSsQ+nPH3Pzchsz6n3SY/iTnYPtphIj+wbDA/V5eQPz/KkkAD6h8/MLf/PtvCCj+QTKY+xPVEP+XrUj8fuHU/kTo/P6WP8T4LVnc/HhSAP/dPAz+8NAo/eJJ2PxoiaD9YNmQ/N4iKP3P3PT9BS5JAzLmtPjlcyD7XHWE/ER1GPyP/sj7jKRU/l9DTPqy2Nj+RTLc+2ms4P8fpij90QDs/4lNKP16+Ez8m6M8+LcrnPrZpkkCVMoE/RpZLP7U6rT4MPik/7RtjPywrDz+WZZI/d+hqP62Rjj90H1o/",
          "dtype": "f4"
         }
        },
        {
         "hoverinfo": "text",
         "hovertext": [
          "000147733323000045",
          "000109959023000023",
          "000102177123000057",
          "000136686823000042",
          "000139898723000147",
          "000170305623000104",
          "000150043523000093",
          "000114259623000028",
          "000140125723000002",
          "000149209123000004",
          "000182095323000008",
          "000117633423000019",
          "000175876623000050",
          "000139594223000045",
          "000103129623000035",
          "000132046123000011",
          "000147729423000149",
          "000155198623000015",
          "000138490523000039",
          "000172178123000012",
          "000158067023000097",
          "000103797623000060",
          "000035254123000035",
          "000137899223000013",
          "000144530523000139",
          "000157587223001247",
          "000126297623000040",
          "000141332923000178",
          "000182508823000061",
          "000108496123000019",
          "000010012223000028",
          "000141447523000002",
          "000095015723000566",
          "000170249423000009",
          "000095010323001829",
          "000138713123009019",
          "000157987723000097",
          "000175707323000062",
          "000179062523000005",
          "000137698623000024",
          "000161198323000009",
          "000113778923000035",
          "000146241823000010",
          "000158106823000030",
          "000111841723000057",
          "000162890823000180",
          "000150630723000019",
          "000133525823000006",
          "000186827523000040",
          "000161686223000078",
          "000182507923000031",
          "000160477823000110"
         ],
         "marker": {
          "opacity": 0.5,
          "size": 5
         },
         "mode": "markers+text",
         "name": "5_Notes Offerings and Debt Management",
         "text": [
          "",
          "",
          "",
          "",
          "",
          "",
          "",
          "",
          "",
          "",
          "",
          "",
          "",
          "",
          "",
          "",
          "",
          "",
          "",
          "",
          "",
          "",
          "",
          "",
          "",
          "",
          "",
          "",
          "",
          "",
          "",
          "",
          "",
          "",
          "",
          "",
          "",
          "",
          "",
          "",
          "",
          "",
          "",
          "",
          "",
          "",
          "",
          "",
          "",
          "",
          "",
          ""
         ],
         "textfont": {
          "size": 12
         },
         "type": "scattergl",
         "x": {
          "bdata": "JSciP0VCIj/N1wJA6xcrP9ujgD9tpSU/KKnoPv5d5D6I7SM/bcP9P7XPyD5hUMg/pQKRP3hS0D8dYM4/4PPuP7MxLD8d3gNARvjSP1l0tj+rkKI/g+w2P9h8XT/kEdg/EMXbP13E8D8LN8A+elA5PyHjAkBBruY/nFC7PzFsVz+VavY/s5y8P/X1fj8Atf8/2+zhP3ijoz+HI+k+3yPbPyeYhz/nuvY/enwDQELk2j8of70/0zuYP9nPUD96tvE/YQ+uP6etPj/pnxc/VDVOPw==",
          "dtype": "f4"
         },
         "y": {
          "bdata": "SN1/QH0CgEBtDjhAsyJxQAHwb0B72X9A1ipwQIJ3bkDs9H9APuU+QPr5bkDyA2VAZAVtQBqYYUD2hWNAN45VQP3Zf0BMFzBADShfQMFYakBiLm1AZQ1yQHHdXkD12VxAmq5bQDPPQUAtoW1AEAB0QMOiNkCljFZA+xJpQJcLX0CKDDlABeBnQJPAcUAixzxAimtYQHPtYUAN+mFAZvhfQNJibECH/kxA/I84QP/3W0BKFWZAbzptQAeKbkCQD1FAupFaQCpRcUBZK3dA9N92QA==",
          "dtype": "f4"
         }
        },
        {
         "hoverinfo": "text",
         "hovertext": [
          "000178730623000132",
          "000183988223030723",
          "000147929023000006",
          "000159990123000103",
          "000165130823000005",
          "000143853323000030",
          "000102302423000029",
          "000159929823000050",
          "000173961423000048",
          "000107008123000043",
          "000167936323000066",
          "000132619023000050",
          "000136764423000163",
          "000165066423000038",
          "000166471023000044",
          "000158536423000051",
          "000182429323000179",
          "000154959523000062",
          "000181838223000104",
          "000160148523000071",
          "000095017023029851",
          "000093041323001180",
          "000172516023000137",
          "000161521923000057",
          "000181979023000088",
          "000132611023000023",
          "000146715423000005",
          "000115903623000051",
          "000117184323004026",
          "000162619923000103",
          "000110465923023549",
          "000161985623000084",
          "000172811723000030",
          "000165575923000084",
          "000151702223000009",
          "000178976923000077",
          "000173728723000096",
          "000161061823000086",
          "000168954823000133",
          "000160013223000043"
         ],
         "marker": {
          "opacity": 0.5,
          "size": 5
         },
         "mode": "markers+text",
         "name": "6_Clinical Trials and Drug Development Updates",
         "text": [
          "",
          "",
          "",
          "",
          "",
          "",
          "",
          "",
          "",
          "",
          "",
          "",
          "",
          "",
          "",
          "",
          "",
          "",
          "",
          "",
          "",
          "",
          "",
          "",
          "",
          "",
          "",
          "",
          "",
          "",
          "",
          "",
          "",
          "",
          "",
          "",
          "",
          "",
          "",
          ""
         ],
         "textfont": {
          "size": 12
         },
         "type": "scattergl",
         "x": {
          "bdata": "WtGIP8GdAj/zt6I/iuDoPqyHgT+mRwc/hjmdP/A9hz/Y15g/qZLsPmK44j5SpQU/PKOuPxniiz8TrIA/GemhPsM3kj9zhZI/13CHP0KVij/OuBE/ctOwP4T3QT/NA4s/wsSSP35mFD8iyao/kyQCP71YXz9DP5M/GdwzP+KaSz96QDU/8sQLP1xnRD/EVJ0/SoMfP3vlwT/kNuc+X/OPPw==",
          "dtype": "f4"
         },
         "y": {
          "bdata": "FdXhPoLewz5U/SI/sbbIPjTTxj7e5tk+PPzvPh6JtD7gVsw+ypzXPmhzAD/nP74+4pQdPzVPhT8kD7c+owQnP2rRpT7Qxwc/+3W7PoJ51j6+2bw+XXMpP97lKD/h1sE+JDz2PqGo0j7yORM/Rhb/Pj2Uuz7w1dQ++xtCP4V8tT4t1uQ+x+qyPvPFKD/Srq8+gMi3PphHXT8t/dk+4UapPg==",
          "dtype": "f4"
         }
        },
        {
         "hoverinfo": "text",
         "hovertext": [
          "000175612523000314",
          "000142368923000061",
          "000155335023000156",
          "000160183023000075",
          "000161600023000074",
          "000170587323000071",
          "000170111423000054",
          "000171754723000013",
          "000101376223004115",
          "000145983923000080",
          "000143364223000016",
          "000165013223000099",
          "000182897223000124",
          "000112414023000036",
          "000127956923000434",
          "000138119723000054",
          "000160375623000044",
          "000119312523247403",
          "000180274923000086",
          "000155116323000023",
          "000182249223000094",
          "000105787723000064",
          "000156918723000101",
          "000146608523000109",
          "000164697223000023"
         ],
         "marker": {
          "opacity": 0.5,
          "size": 5
         },
         "mode": "markers+text",
         "name": "7_Securities Offerings and Underwriting Agreements",
         "text": [
          "",
          "",
          "",
          "",
          "",
          "",
          "",
          "",
          "",
          "",
          "",
          "",
          "",
          "",
          "",
          "",
          "",
          "",
          "",
          "",
          "",
          "",
          "",
          "",
          ""
         ],
         "textfont": {
          "size": 12
         },
         "type": "scattergl",
         "x": {
          "bdata": "Wpx7Px+Paj9N670/nkanPyouoD87jhU/BDYLPzgliT9F14M/Ow5sP4zzVD/zSWs/6jtdP6zrqT9vHWw/V0StPxegqj/y9p8/adC8P2SfLD+rD4o/R4yBP7a4ZT8C6Rw/OCYePw==",
          "dtype": "f4"
         },
         "y": {
          "bdata": "aIhLQLkORkAKxjlAsTgzQNqyNkClsTJAw4w8QA0MREAR20hAZaFEQByZREBXWTBA7apCQIa+NECtTj1Aaxc1QF/UMUDu0zZAyVtCQNnlO0DJ20RAuXlDQEaQRUButkBAfU0+QA==",
          "dtype": "f4"
         }
        },
        {
         "hoverinfo": "text",
         "hovertext": [
          "000181914223000006",
          "000116638823000044",
          "000106299323020321",
          "000109428523000125",
          "000104016123000008",
          "000181957423000003",
          "000128884723000020",
          "000172359623000035",
          "000137536523000039",
          "000111512823000020",
          "000180245723000032",
          "000182912623008075",
          "000182185023000049",
          "000144668723000003",
          "000166073423000041",
          "000161310323000013",
          "000158080823000003"
         ],
         "marker": {
          "opacity": 0.5,
          "size": 5
         },
         "mode": "markers+text",
         "name": "8_Annual Stockholder Meetings and Proposal Deadlines",
         "text": [
          "",
          "",
          "",
          "",
          "",
          "",
          "",
          "",
          "",
          "",
          "",
          "",
          "",
          "",
          "",
          "",
          ""
         ],
         "textfont": {
          "size": 12
         },
         "type": "scattergl",
         "x": {
          "bdata": "R92hQGrynkB2IKRAsqubQHghoUCyNaNA9giiQAR0nUCcyqJAk5aiQPtzpECDeZpAk8SiQA4QmUAsSJhARy2jQHmwokA=",
          "dtype": "f4"
         },
         "y": {
          "bdata": "5LD0Pq8ICD+rydk+fer5PnO3BT+30eI+tTbzPp03Cj9tLek+iTzuPo5gzj6FWQI/WfnoPr5lIT+nPQc/cI/kPjla6z4=",
          "dtype": "f4"
         }
        },
        {
         "hoverinfo": "text",
         "hovertext": [
          "000162564123000038",
          "000010221223000029",
          "000141093923000029",
          "000179250923000013",
          "000106953023000015",
          "000148251223000073",
          "000142843923000010",
          "000157694223000026",
          "000158034523000015",
          "000181911323000016",
          "000156440623000023",
          "000152927423000056",
          "000131210923000058",
          "000103544323000121",
          "000140997023000016"
         ],
         "marker": {
          "opacity": 0.5,
          "size": 5
         },
         "mode": "markers+text",
         "name": "9_SVB and Signature Bank Closures Impact on Companies",
         "text": [
          "",
          "",
          "",
          "",
          "",
          "",
          "",
          "",
          "",
          "",
          "",
          "",
          "",
          "",
          ""
         ],
         "textfont": {
          "size": 12
         },
         "type": "scattergl",
         "x": {
          "bdata": "oJeqv37q0r5KpJK/Aruqv6rKsL/NH7G/N9uqvz0kp79iHK6/u1C0vycJpL+YtKS/uiuzv5IIqr8xYqm/",
          "dtype": "f4"
         },
         "y": {
          "bdata": "3ZCEQFJ8dUB6DnxAE2SEQGGEhkCojYZASaCEQD9fg0CJYYVAUViHQG20gkAywoJA71mHQH31g0DhaoRA",
          "dtype": "f4"
         }
        },
        {
         "hoverinfo": "text",
         "hovertext": [
          "000136836523000004",
          "000143774923013400",
          "000176232223000009",
          "000113155423000104",
          "000137763023000161",
          "000164045523000014",
          "000180160223000039",
          "000177937223000013",
          "000155837023010078",
          "000138010623000165",
          "000136814823000021"
         ],
         "marker": {
          "opacity": 0.5,
          "size": 5
         },
         "mode": "markers+text",
         "name": "10_Nasdaq Listing Compliance Updates in 2023",
         "text": [
          "",
          "",
          "",
          "",
          "",
          "",
          "",
          "",
          "",
          "",
          ""
         ],
         "textfont": {
          "size": 12
         },
         "type": "scattergl",
         "x": {
          "bdata": "dTslwPbFJMDYsiXAB8MkwIAVJcBX4CLAvYAkwHUxI8Bq4SLArPYlwE07JsA=",
          "dtype": "f4"
         },
         "y": {
          "bdata": "rXcQPrLxFT4/uQg+MSMXPvVZET4SxjQ+vPwZPvkiMT4suTY+yoACPtM6CD4=",
          "dtype": "f4"
         }
        },
        {
         "hoverinfo": "text",
         "hovertext": [
          "000118518523000069",
          "000109565123000008",
          "000158510123000080",
          "000089534523000684",
          "000132797823000140",
          "000181255423000037",
          "000156103223000007",
          "000149854723000071",
          "000163297023000028",
          "000155091323000006",
          "000199937123000403"
         ],
         "marker": {
          "opacity": 0.5,
          "size": 5
         },
         "mode": "markers+text",
         "name": "11_Estimated NAV Valuations and Real Estate Assets",
         "text": [
          "",
          "",
          "",
          "",
          "",
          "",
          "",
          "",
          "",
          "",
          ""
         ],
         "textfont": {
          "size": 12
         },
         "type": "scattergl",
         "x": {
          "bdata": "F6rOvwHw3b+U4BFBjg4PQcwa3L9xCNa/otXav3qH2L9pX92/aWTZvx5E3L8=",
          "dtype": "f4"
         },
         "y": {
          "bdata": "XC8lQKwRJkDbJGdAxf5eQD+BJUCb3CRAWB4mQNN9JUCadydAsAwnQHn1JUA=",
          "dtype": "f4"
         }
        },
        {
         "hoverinfo": "text",
         "hovertext": [
          "000172697823000134",
          "000148500323000020",
          "000166670023000069",
          "000128005823000040",
          "000151096423000003",
          "000010838523000010",
          "000155203323000043",
          "000156461823000033",
          "000182247923000054",
          "000142377423000143"
         ],
         "marker": {
          "opacity": 0.5,
          "size": 5
         },
         "mode": "markers+text",
         "name": "12_Settlement Agreements and Legal Proceedings",
         "text": [
          "",
          "",
          "",
          "",
          "",
          "",
          "",
          "",
          "",
          ""
         ],
         "textfont": {
          "size": 12
         },
         "type": "scattergl",
         "x": {
          "bdata": "wGp0v5Dmar/sq4G/HgNTv7wza78JJ2S/uGRRv564Wb/lWn+/LX9tvw==",
          "dtype": "f4"
         },
         "y": {
          "bdata": "hq5DQPo2SkDk5zVAwAdWQPYtR0CHFEhAHUhTQKSVU0D5uztAkclKQA==",
          "dtype": "f4"
         }
        }
       ],
       "layout": {
        "annotations": [
         {
          "showarrow": false,
          "text": "D1",
          "x": -2.9869749546051025,
          "y": 4.062819004058838,
          "yshift": 10
         },
         {
          "showarrow": false,
          "text": "D2",
          "x": 4.4035563468933105,
          "xshift": 10,
          "y": 8.01731014251709
         }
        ],
        "font": {
         "size": 12
        },
        "height": 600,
        "shapes": [
         {
          "line": {
           "color": "#CFD8DC",
           "width": 2
          },
          "type": "line",
          "x0": 4.4035563468933105,
          "x1": 4.4035563468933105,
          "y0": 0.10832775384187698,
          "y1": 8.01731014251709
         },
         {
          "line": {
           "color": "#9E9E9E",
           "width": 2
          },
          "type": "line",
          "x0": -2.9869749546051025,
          "x1": 11.794087409973145,
          "y0": 4.062819004058838,
          "y1": 4.062819004058838
         }
        ],
        "template": {
         "data": {
          "bar": [
           {
            "error_x": {
             "color": "rgb(36,36,36)"
            },
            "error_y": {
             "color": "rgb(36,36,36)"
            },
            "marker": {
             "line": {
              "color": "white",
              "width": 0.5
             },
             "pattern": {
              "fillmode": "overlay",
              "size": 10,
              "solidity": 0.2
             }
            },
            "type": "bar"
           }
          ],
          "barpolar": [
           {
            "marker": {
             "line": {
              "color": "white",
              "width": 0.5
             },
             "pattern": {
              "fillmode": "overlay",
              "size": 10,
              "solidity": 0.2
             }
            },
            "type": "barpolar"
           }
          ],
          "carpet": [
           {
            "aaxis": {
             "endlinecolor": "rgb(36,36,36)",
             "gridcolor": "white",
             "linecolor": "white",
             "minorgridcolor": "white",
             "startlinecolor": "rgb(36,36,36)"
            },
            "baxis": {
             "endlinecolor": "rgb(36,36,36)",
             "gridcolor": "white",
             "linecolor": "white",
             "minorgridcolor": "white",
             "startlinecolor": "rgb(36,36,36)"
            },
            "type": "carpet"
           }
          ],
          "choropleth": [
           {
            "colorbar": {
             "outlinewidth": 1,
             "tickcolor": "rgb(36,36,36)",
             "ticks": "outside"
            },
            "type": "choropleth"
           }
          ],
          "contour": [
           {
            "colorbar": {
             "outlinewidth": 1,
             "tickcolor": "rgb(36,36,36)",
             "ticks": "outside"
            },
            "colorscale": [
             [
              0,
              "#440154"
             ],
             [
              0.1111111111111111,
              "#482878"
             ],
             [
              0.2222222222222222,
              "#3e4989"
             ],
             [
              0.3333333333333333,
              "#31688e"
             ],
             [
              0.4444444444444444,
              "#26828e"
             ],
             [
              0.5555555555555556,
              "#1f9e89"
             ],
             [
              0.6666666666666666,
              "#35b779"
             ],
             [
              0.7777777777777778,
              "#6ece58"
             ],
             [
              0.8888888888888888,
              "#b5de2b"
             ],
             [
              1,
              "#fde725"
             ]
            ],
            "type": "contour"
           }
          ],
          "contourcarpet": [
           {
            "colorbar": {
             "outlinewidth": 1,
             "tickcolor": "rgb(36,36,36)",
             "ticks": "outside"
            },
            "type": "contourcarpet"
           }
          ],
          "heatmap": [
           {
            "colorbar": {
             "outlinewidth": 1,
             "tickcolor": "rgb(36,36,36)",
             "ticks": "outside"
            },
            "colorscale": [
             [
              0,
              "#440154"
             ],
             [
              0.1111111111111111,
              "#482878"
             ],
             [
              0.2222222222222222,
              "#3e4989"
             ],
             [
              0.3333333333333333,
              "#31688e"
             ],
             [
              0.4444444444444444,
              "#26828e"
             ],
             [
              0.5555555555555556,
              "#1f9e89"
             ],
             [
              0.6666666666666666,
              "#35b779"
             ],
             [
              0.7777777777777778,
              "#6ece58"
             ],
             [
              0.8888888888888888,
              "#b5de2b"
             ],
             [
              1,
              "#fde725"
             ]
            ],
            "type": "heatmap"
           }
          ],
          "histogram": [
           {
            "marker": {
             "line": {
              "color": "white",
              "width": 0.6
             }
            },
            "type": "histogram"
           }
          ],
          "histogram2d": [
           {
            "colorbar": {
             "outlinewidth": 1,
             "tickcolor": "rgb(36,36,36)",
             "ticks": "outside"
            },
            "colorscale": [
             [
              0,
              "#440154"
             ],
             [
              0.1111111111111111,
              "#482878"
             ],
             [
              0.2222222222222222,
              "#3e4989"
             ],
             [
              0.3333333333333333,
              "#31688e"
             ],
             [
              0.4444444444444444,
              "#26828e"
             ],
             [
              0.5555555555555556,
              "#1f9e89"
             ],
             [
              0.6666666666666666,
              "#35b779"
             ],
             [
              0.7777777777777778,
              "#6ece58"
             ],
             [
              0.8888888888888888,
              "#b5de2b"
             ],
             [
              1,
              "#fde725"
             ]
            ],
            "type": "histogram2d"
           }
          ],
          "histogram2dcontour": [
           {
            "colorbar": {
             "outlinewidth": 1,
             "tickcolor": "rgb(36,36,36)",
             "ticks": "outside"
            },
            "colorscale": [
             [
              0,
              "#440154"
             ],
             [
              0.1111111111111111,
              "#482878"
             ],
             [
              0.2222222222222222,
              "#3e4989"
             ],
             [
              0.3333333333333333,
              "#31688e"
             ],
             [
              0.4444444444444444,
              "#26828e"
             ],
             [
              0.5555555555555556,
              "#1f9e89"
             ],
             [
              0.6666666666666666,
              "#35b779"
             ],
             [
              0.7777777777777778,
              "#6ece58"
             ],
             [
              0.8888888888888888,
              "#b5de2b"
             ],
             [
              1,
              "#fde725"
             ]
            ],
            "type": "histogram2dcontour"
           }
          ],
          "mesh3d": [
           {
            "colorbar": {
             "outlinewidth": 1,
             "tickcolor": "rgb(36,36,36)",
             "ticks": "outside"
            },
            "type": "mesh3d"
           }
          ],
          "parcoords": [
           {
            "line": {
             "colorbar": {
              "outlinewidth": 1,
              "tickcolor": "rgb(36,36,36)",
              "ticks": "outside"
             }
            },
            "type": "parcoords"
           }
          ],
          "pie": [
           {
            "automargin": true,
            "type": "pie"
           }
          ],
          "scatter": [
           {
            "fillpattern": {
             "fillmode": "overlay",
             "size": 10,
             "solidity": 0.2
            },
            "type": "scatter"
           }
          ],
          "scatter3d": [
           {
            "line": {
             "colorbar": {
              "outlinewidth": 1,
              "tickcolor": "rgb(36,36,36)",
              "ticks": "outside"
             }
            },
            "marker": {
             "colorbar": {
              "outlinewidth": 1,
              "tickcolor": "rgb(36,36,36)",
              "ticks": "outside"
             }
            },
            "type": "scatter3d"
           }
          ],
          "scattercarpet": [
           {
            "marker": {
             "colorbar": {
              "outlinewidth": 1,
              "tickcolor": "rgb(36,36,36)",
              "ticks": "outside"
             }
            },
            "type": "scattercarpet"
           }
          ],
          "scattergeo": [
           {
            "marker": {
             "colorbar": {
              "outlinewidth": 1,
              "tickcolor": "rgb(36,36,36)",
              "ticks": "outside"
             }
            },
            "type": "scattergeo"
           }
          ],
          "scattergl": [
           {
            "marker": {
             "colorbar": {
              "outlinewidth": 1,
              "tickcolor": "rgb(36,36,36)",
              "ticks": "outside"
             }
            },
            "type": "scattergl"
           }
          ],
          "scattermap": [
           {
            "marker": {
             "colorbar": {
              "outlinewidth": 1,
              "tickcolor": "rgb(36,36,36)",
              "ticks": "outside"
             }
            },
            "type": "scattermap"
           }
          ],
          "scattermapbox": [
           {
            "marker": {
             "colorbar": {
              "outlinewidth": 1,
              "tickcolor": "rgb(36,36,36)",
              "ticks": "outside"
             }
            },
            "type": "scattermapbox"
           }
          ],
          "scatterpolar": [
           {
            "marker": {
             "colorbar": {
              "outlinewidth": 1,
              "tickcolor": "rgb(36,36,36)",
              "ticks": "outside"
             }
            },
            "type": "scatterpolar"
           }
          ],
          "scatterpolargl": [
           {
            "marker": {
             "colorbar": {
              "outlinewidth": 1,
              "tickcolor": "rgb(36,36,36)",
              "ticks": "outside"
             }
            },
            "type": "scatterpolargl"
           }
          ],
          "scatterternary": [
           {
            "marker": {
             "colorbar": {
              "outlinewidth": 1,
              "tickcolor": "rgb(36,36,36)",
              "ticks": "outside"
             }
            },
            "type": "scatterternary"
           }
          ],
          "surface": [
           {
            "colorbar": {
             "outlinewidth": 1,
             "tickcolor": "rgb(36,36,36)",
             "ticks": "outside"
            },
            "colorscale": [
             [
              0,
              "#440154"
             ],
             [
              0.1111111111111111,
              "#482878"
             ],
             [
              0.2222222222222222,
              "#3e4989"
             ],
             [
              0.3333333333333333,
              "#31688e"
             ],
             [
              0.4444444444444444,
              "#26828e"
             ],
             [
              0.5555555555555556,
              "#1f9e89"
             ],
             [
              0.6666666666666666,
              "#35b779"
             ],
             [
              0.7777777777777778,
              "#6ece58"
             ],
             [
              0.8888888888888888,
              "#b5de2b"
             ],
             [
              1,
              "#fde725"
             ]
            ],
            "type": "surface"
           }
          ],
          "table": [
           {
            "cells": {
             "fill": {
              "color": "rgb(237,237,237)"
             },
             "line": {
              "color": "white"
             }
            },
            "header": {
             "fill": {
              "color": "rgb(217,217,217)"
             },
             "line": {
              "color": "white"
             }
            },
            "type": "table"
           }
          ]
         },
         "layout": {
          "annotationdefaults": {
           "arrowhead": 0,
           "arrowwidth": 1
          },
          "autotypenumbers": "strict",
          "coloraxis": {
           "colorbar": {
            "outlinewidth": 1,
            "tickcolor": "rgb(36,36,36)",
            "ticks": "outside"
           }
          },
          "colorscale": {
           "diverging": [
            [
             0,
             "rgb(103,0,31)"
            ],
            [
             0.1,
             "rgb(178,24,43)"
            ],
            [
             0.2,
             "rgb(214,96,77)"
            ],
            [
             0.3,
             "rgb(244,165,130)"
            ],
            [
             0.4,
             "rgb(253,219,199)"
            ],
            [
             0.5,
             "rgb(247,247,247)"
            ],
            [
             0.6,
             "rgb(209,229,240)"
            ],
            [
             0.7,
             "rgb(146,197,222)"
            ],
            [
             0.8,
             "rgb(67,147,195)"
            ],
            [
             0.9,
             "rgb(33,102,172)"
            ],
            [
             1,
             "rgb(5,48,97)"
            ]
           ],
           "sequential": [
            [
             0,
             "#440154"
            ],
            [
             0.1111111111111111,
             "#482878"
            ],
            [
             0.2222222222222222,
             "#3e4989"
            ],
            [
             0.3333333333333333,
             "#31688e"
            ],
            [
             0.4444444444444444,
             "#26828e"
            ],
            [
             0.5555555555555556,
             "#1f9e89"
            ],
            [
             0.6666666666666666,
             "#35b779"
            ],
            [
             0.7777777777777778,
             "#6ece58"
            ],
            [
             0.8888888888888888,
             "#b5de2b"
            ],
            [
             1,
             "#fde725"
            ]
           ],
           "sequentialminus": [
            [
             0,
             "#440154"
            ],
            [
             0.1111111111111111,
             "#482878"
            ],
            [
             0.2222222222222222,
             "#3e4989"
            ],
            [
             0.3333333333333333,
             "#31688e"
            ],
            [
             0.4444444444444444,
             "#26828e"
            ],
            [
             0.5555555555555556,
             "#1f9e89"
            ],
            [
             0.6666666666666666,
             "#35b779"
            ],
            [
             0.7777777777777778,
             "#6ece58"
            ],
            [
             0.8888888888888888,
             "#b5de2b"
            ],
            [
             1,
             "#fde725"
            ]
           ]
          },
          "colorway": [
           "#1F77B4",
           "#FF7F0E",
           "#2CA02C",
           "#D62728",
           "#9467BD",
           "#8C564B",
           "#E377C2",
           "#7F7F7F",
           "#BCBD22",
           "#17BECF"
          ],
          "font": {
           "color": "rgb(36,36,36)"
          },
          "geo": {
           "bgcolor": "white",
           "lakecolor": "white",
           "landcolor": "white",
           "showlakes": true,
           "showland": true,
           "subunitcolor": "white"
          },
          "hoverlabel": {
           "align": "left"
          },
          "hovermode": "closest",
          "mapbox": {
           "style": "light"
          },
          "paper_bgcolor": "white",
          "plot_bgcolor": "white",
          "polar": {
           "angularaxis": {
            "gridcolor": "rgb(232,232,232)",
            "linecolor": "rgb(36,36,36)",
            "showgrid": false,
            "showline": true,
            "ticks": "outside"
           },
           "bgcolor": "white",
           "radialaxis": {
            "gridcolor": "rgb(232,232,232)",
            "linecolor": "rgb(36,36,36)",
            "showgrid": false,
            "showline": true,
            "ticks": "outside"
           }
          },
          "scene": {
           "xaxis": {
            "backgroundcolor": "white",
            "gridcolor": "rgb(232,232,232)",
            "gridwidth": 2,
            "linecolor": "rgb(36,36,36)",
            "showbackground": true,
            "showgrid": false,
            "showline": true,
            "ticks": "outside",
            "zeroline": false,
            "zerolinecolor": "rgb(36,36,36)"
           },
           "yaxis": {
            "backgroundcolor": "white",
            "gridcolor": "rgb(232,232,232)",
            "gridwidth": 2,
            "linecolor": "rgb(36,36,36)",
            "showbackground": true,
            "showgrid": false,
            "showline": true,
            "ticks": "outside",
            "zeroline": false,
            "zerolinecolor": "rgb(36,36,36)"
           },
           "zaxis": {
            "backgroundcolor": "white",
            "gridcolor": "rgb(232,232,232)",
            "gridwidth": 2,
            "linecolor": "rgb(36,36,36)",
            "showbackground": true,
            "showgrid": false,
            "showline": true,
            "ticks": "outside",
            "zeroline": false,
            "zerolinecolor": "rgb(36,36,36)"
           }
          },
          "shapedefaults": {
           "fillcolor": "black",
           "line": {
            "width": 0
           },
           "opacity": 0.3
          },
          "ternary": {
           "aaxis": {
            "gridcolor": "rgb(232,232,232)",
            "linecolor": "rgb(36,36,36)",
            "showgrid": false,
            "showline": true,
            "ticks": "outside"
           },
           "baxis": {
            "gridcolor": "rgb(232,232,232)",
            "linecolor": "rgb(36,36,36)",
            "showgrid": false,
            "showline": true,
            "ticks": "outside"
           },
           "bgcolor": "white",
           "caxis": {
            "gridcolor": "rgb(232,232,232)",
            "linecolor": "rgb(36,36,36)",
            "showgrid": false,
            "showline": true,
            "ticks": "outside"
           }
          },
          "title": {
           "x": 0.05
          },
          "xaxis": {
           "automargin": true,
           "gridcolor": "rgb(232,232,232)",
           "linecolor": "rgb(36,36,36)",
           "showgrid": false,
           "showline": true,
           "ticks": "outside",
           "title": {
            "standoff": 15
           },
           "zeroline": false,
           "zerolinecolor": "rgb(36,36,36)"
          },
          "yaxis": {
           "automargin": true,
           "gridcolor": "rgb(232,232,232)",
           "linecolor": "rgb(36,36,36)",
           "showgrid": false,
           "showline": true,
           "ticks": "outside",
           "title": {
            "standoff": 15
           },
           "zeroline": false,
           "zerolinecolor": "rgb(36,36,36)"
          }
         }
        },
        "title": {
         "font": {
          "color": "Black",
          "size": 22
         },
         "text": "<b>Documents and Topics</b>",
         "x": 0.5,
         "xanchor": "center",
         "yanchor": "top"
        },
        "width": 1200,
        "xaxis": {
         "visible": false
        },
        "yaxis": {
         "visible": false
        }
       }
      }
     },
     "metadata": {},
     "output_type": "display_data"
    }
   ],
   "source": [
    "fig = topic_model.visualize_documents(\n",
    "    dataset['accessionNo'],\n",
    "    reduced_embeddings=reduced_embeddings_n_2,\n",
    "    width=1200,\n",
    "    height=600,\n",
    "    hide_annotations=True\n",
    ")\n",
    "fig.update_layout(font=dict(size=12))"
   ]
  },
  {
   "attachments": {
    "image.png": {
     "image/png": "[encoded data removed]"
    }
   },
   "cell_type": "markdown",
   "metadata": {},
   "source": [
    "![image.png](attachment:image.png)"
   ]
  },
  {
   "cell_type": "markdown",
   "metadata": {},
   "source": []
  }
 ],
 "metadata": {
  "kernelspec": {
   "display_name": "venv",
   "language": "python",
   "name": "python3"
  },
  "language_info": {
   "codemirror_mode": {
    "name": "ipython",
    "version": 3
   },
   "file_extension": ".py",
   "mimetype": "text/x-python",
   "name": "python",
   "nbconvert_exporter": "python",
   "pygments_lexer": "ipython3",
   "version": "3.10.10"
  }
 },
 "nbformat": 4,
 "nbformat_minor": 2
}
