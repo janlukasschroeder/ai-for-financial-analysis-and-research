{
 "cells": [
  {
   "cell_type": "markdown",
   "metadata": {},
   "source": [
    "# SEC-API.io and Other Use Cases\n",
    "\n",
    "### SEC-API.io Use Cases\n",
    "\n",
    "- Impact of Form 8-K material event disclosures on stock prices\n",
    "  - 1.01 - Entering into material agreements\n",
    "  - 5.02 - Impact of the reasons behind executive change on stock price\n",
    "  - 4.02 - Notice of non-reliance on previously issued financial statements\n",
    "  - Impact of first bankruptcy proceeding notification on stock prices\n",
    "  - Classifications of 8-K Item 7.01 (Regulation FD) and 8.01 (Other Events) and impact on stock prices\n",
    "- Insider trading impact on stock prices (buy and sell)\n",
    "- IPO X-day returns & prospectus 424B4 Analysis - Risk factors, auditors, underwriters, legal counsel, language complexity, financials, etc. and X-first day returns\n",
    "- IPO participation as disclosed in 13Fs and impact on stock price\n",
    "- S-1/S-3 share issuance impact on returns\n",
    "- 424B2 (Complex Financial Products) prospectus analysis\n",
    "- Classify reasons for late filing notices (NT 10-K/10-Q) and analyze the impact of different classes on stock prices\n",
    "- Find instances where auditors raise substantial doubt about a company's ability to continue as going concern\n",
    "\n",
    "**Tutorials:**\n",
    "\n",
    "- [Extract Google's Revenue Metrics from 10-K Filings with Python](https://sec-api.io/resources/extract-googles-revenue-metrics-from-10-k-filings-with-python)\n",
    "- [Extract Financial Statements from SEC Filings with Python](https://sec-api.io/resources/extract-financial-statements-from-sec-filings-and-xbrl-data-with-python)\n",
    "- [Extract Textual Data from EDGAR 10-K Filings Using Python](https://sec-api.io/resources/extract-textual-data-from-edgar-10-k-filings-using-python)\n",
    "- [Download 10-K Filings of Russell 3000 Companies from SEC EDGAR](https://sec-api.io/resources/download-10-k-filings-of-russell-3000-companies-from-sec-edgar)\n",
    "- [Analyze 8-K Filings & Material Event Disclosure Activity](https://sec-api.io/resources/analyze-8-k-filings-and-material-event-disclosure-activity)\n",
    "- [13F Alpha Pursuit: Performance, Volatility & Survival of Funds](https://sec-api.io/resources/the-alpha-pursuit-performance-volatility-survival-of-funds)\n",
    "- [Download and Analyze SEC Comment Letters](https://sec-api.io/resources/download-and-analyze-sec-comment-letters)\n",
    "- [Download Financial Statements from EDGAR Filings as Excel File](https://sec-api.io/resources/download-financial-statements-from-edgar-filings-as-excel-file)\n",
    "- [Extract Counterparties of Swap Derivatives from N-PORT Filings](https://sec-api.io/resources/extract-counterparties-of-swap-derivatives-from-n-port-filings)\n",
    "\n",
    "### Other Use Cases\n",
    "\n",
    "- Impact of changes in fundamentals to X-day post disclosure returns\n",
    "- Company valuation framework based on historical stock prices rather than CAPM, DCF, DDM, etc.\n",
    "- Return patterns across ETFs (daily returns, monthly returns, November to April vs May to October returns, same weekday returns, etc.)\n",
    "- Press release classification and X-day returns\n",
    "  - Clinical study endpoint (not) met (Phase 1, 2, 3)\n",
    "  - Private offerings\n",
    "  - Earnings guidance raise\n",
    "  - Extraordinary dividends\n",
    "  - Buyback announcements\n",
    "  - Etc."
   ]
  },
  {
   "cell_type": "markdown",
   "metadata": {},
   "source": []
  }
 ],
 "metadata": {
  "language_info": {
   "name": "python"
  }
 },
 "nbformat": 4,
 "nbformat_minor": 2
}
