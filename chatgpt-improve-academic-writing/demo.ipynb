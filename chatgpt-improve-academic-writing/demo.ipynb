{
 "cells": [
  {
   "cell_type": "markdown",
   "metadata": {},
   "source": [
    "# ChatGPT: Improve Academic Writing\n",
    "\n",
    "**Goal**\n",
    "- Use ChatGPT to convert a list of bullet points into a coherent paragraph for a research paper.\n",
    "- Use GPT Agents to automate repetitive re-writing tasks, such as improving the clarity and coherence of academic paragraph.\n",
    "\n",
    "**Tools**\n",
    "- Create your own GPT agent: https://chat.openai.com/gpts/mine"
   ]
  },
  {
   "cell_type": "markdown",
   "metadata": {},
   "source": [
    "## Prompts for Converting Bullet Points into a Paragraph"
   ]
  },
  {
   "cell_type": "markdown",
   "metadata": {},
   "source": [
    "**Description:**\n",
    "\n",
    "> Enhances financial papers with clear, accessible language, avoiding uncommon words.\n",
    "\n",
    "**GPT Insutrctions:**\n",
    "\n",
    "> Paper Ghostwriter assists in refining content for financial research papers. It's designed to improve and directly return the enhanced version of the text provided by the user. Emphasizing clear, concise, and accurate content, Paper Ghostwriter will avoid the use of overly complex or uncommon words, like 'juxtaposed,' ensuring the language remains accessible while still being professional and technical when necessary. The GPT will avoid speculative language and focus on data-driven insights, maintaining a balance between technical financial jargon and readability. The GPT uses a neutral tone.\n",
    "\n",
    "**Conversation Starters:**\n",
    "\n",
    "> Refine and improve the following text. Use a neutral tone.\n",
    "\n",
    "> Convert the following bullet points into a coherent paragraph.\n",
    "\n",
    "![Screenshot GPT](https://imgur.com/k5vm60s.png)"
   ]
  },
  {
   "cell_type": "markdown",
   "metadata": {},
   "source": [
    "## Write Figure/Table Titles and Captions for Papers\n",
    "\n",
    "Upload the image of the figure and message:\n",
    "\n",
    "> Given the following figure, write a caption for use in a research paper.\n",
    "\n",
    "![Example](https://imgur.com/OPK5ZoN.png)\n",
    "\n",
    "\n",
    "\n",
    "\n",
    "If you already have a title and caption, message:\n",
    "\n",
    "> Improve the following title and caption for a figure in a research paper.\n"
   ]
  },
  {
   "cell_type": "markdown",
   "metadata": {},
   "source": [
    "## Find JEL Classification Codes for Your Paper\n",
    "\n",
    "Find JEL classification codes for your paper by providing the abstract of your paper, message:\n",
    "\n",
    "> Provide JEL classification codes for the following abstract:"
   ]
  },
  {
   "cell_type": "markdown",
   "metadata": {},
   "source": [
    "## Find Titles for Your Paper\n",
    "\n",
    "If you need help finding a title for your paper, message:\n",
    "\n",
    "> Given the following abstract, suggest 10 different titles for the paper."
   ]
  }
 ],
 "metadata": {
  "language_info": {
   "name": "python"
  }
 },
 "nbformat": 4,
 "nbformat_minor": 2
}
