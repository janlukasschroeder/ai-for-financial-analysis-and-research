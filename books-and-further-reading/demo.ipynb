{
 "cells": [
  {
   "cell_type": "markdown",
   "metadata": {},
   "source": [
    "# Books and Further Reading\n",
    "\n",
    "Python in Finance and Machine Learning:\n",
    "\n",
    "- [Python for Finance](https://www.amazon.de/-/en/Yves-Hilpisch/dp/1492024333)\n",
    "- [Advances in Financial Machine Learning](https://www.amazon.de/-/en/Marcos-Lopez-Prado/dp/1119482089)\n",
    "- [Artificial Intelligence in Finance: A Python-Based Guide](https://www.amazon.de/-/en/Yves-Hilpisch/dp/1492055433)\n",
    "- [Python for Finance Cookbook](https://www.amazon.de/Python-Finance-Cookbook-libraries-financial/dp/1789618517)\n",
    "- [Algorithmic Short Selling with Python](https://www.amazon.de/-/en/Laurent-Bernut/dp/1801815194)\n",
    "- [Python for Algorithmic Trading](https://www.amazon.de/-/en/Yves-Hilpisch/dp/149205335X)\n",
    "- [Big Data and Machine Learning in Quantitative Investment](https://www.amazon.de/-/en/Tony-Guida/dp/1119522196)\n",
    "- [Machine Learning in Finance: From Theory to Practice](https://www.amazon.de/-/en/Matthew-F-Dixon/dp/3030410676)\n",
    "- [Hands-On Large Language Models](https://www.amazon.de/-/en/Hands-Large-Language-Models-Understanding/dp/1098150961)\n",
    "\n",
    "Finance and Markets:\n",
    "\n",
    "- [The Handbook of Equity Market Anomalies](https://www.amazon.de/-/en/Len-Zacks/dp/0470905905)\n",
    "- [Strategic Risk Management: Designing Portfolios and Managing Risk](https://www.amazon.de/Strategic-Risk-Management-Designing-Portfolios/dp/1119773911)\n",
    "- [Investment Psychology Explained](https://www.amazon.de/-/en/Martin-J-Pring/dp/0471133000)\n",
    "- [Investment Valuation: Tools and Techniques for Determining the Value of Any Asset](https://www.amazon.de/-/en/Aswath-Damodaran/dp/111801152X)\n",
    "- [Valuation: Measuring and Managing the Value of Companies](https://www.amazon.de/-/en/McKinsey-Company-Inc/dp/1119610885)\n",
    "- [Financial Statement Analysis](https://www.amazon.de/-/en/Martin-S-Fridson/dp/1119457149)\n",
    "- [A Complete Guide To Volume Price Analysis](https://www.amazon.de/-/en/Anna-Coulling/dp/1491249390)\n",
    "- [One Up On Wall Street: How To Use What You Already Know To Make Money In The Market](https://www.amazon.de/-/en/Peter-Lynch/dp/0743200403)\n",
    "- [Richer, Wiser, Happier: How the World’s Greatest Investors Win in Markets and Life](https://www.amazon.com/Richer-Wiser-Happier-Greatest-Investors/dp/1501164856)"
   ]
  },
  {
   "cell_type": "markdown",
   "metadata": {},
   "source": []
  }
 ],
 "metadata": {
  "language_info": {
   "name": "python"
  }
 },
 "nbformat": 4,
 "nbformat_minor": 2
}
