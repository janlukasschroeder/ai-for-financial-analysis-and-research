{
 "cells": [
  {
   "cell_type": "markdown",
   "metadata": {},
   "source": [
    "# SEC Form 8-K - Material Event Disclosures\n",
    "\n",
    "- Publicly traded U.S. companies registered with the SEC must file Form 8-K for specific events as defined in 33 categories.\n",
    "- This filing, known as a \"Current Report,\" is to be publicly disclosed within four business days following a material event.\n",
    "- Form 8-K filings are triggered by specific occurrences, unlike scheduled 10-K or 10-Q filings.\n",
    "- The form is divided into sections labeled with item numbers (e.g., Item 1.01, Item 5.02) each addressing a different event type.\n",
    "- Item 8.01 is a \"catch-all\" category for events significant to security holders but not specified elsewhere in the form.\n",
    "- Events requiring 8-K disclosure include significant agreements, bankruptcy filings, stock delisting notices, financial statement errors, and changes in key leadership positions.\n",
    "- Companies based outside the U.S. but traded on U.S. markets file Form 6-K, such as Alibaba, Baidu, and Tencent.\n",
    "\n",
    "## Overview of Relevant 8-K Items and Event Categories\n",
    "\n",
    "#### Section 1 - Registrant’s Business and Operations\n",
    "\n",
    "- 1.01: Entry into a Material Definitive Agreement\n",
    "- 1.02: Termination of a Material Definitive Agreement\n",
    "- 1.03: Bankruptcy or Receivership\n",
    "- 1.05: Material Cybersecurity Incidents\n",
    "\n",
    "#### Section 2 - Financial Information\n",
    "\n",
    "- 2.01: Completion of Acquisition or Disposition of Assets\n",
    "- 2.02: Results of Operations and Financial Condition\n",
    "- 2.03: Creation of a Direct Financial Obligation or an Obligation under an Off-Balance Sheet Arrangement of a Registrant\n",
    "- 2.04: Triggering Events That Accelerate or Increase a Direct Financial Obligation or an Obligation under an Off-Balance Sheet Arrangement\n",
    "- 2.05: Cost Associated with Exit or Disposal Activities\n",
    "- 2.06: Material Impairments\n",
    "\n",
    "#### Section 3 - Securities and Trading Markets\n",
    "\n",
    "- 3.01: Notice of Delisting or Failure to Satisfy a Continued Listing Rule\n",
    "- 3.02: Unregistered Sales of Equity Securities\n",
    "\n",
    "#### Section 4 - Matters Related to Accountants and Financial Statements\n",
    "\n",
    "- 4.01: Changes in Registrant's Certifying Accountant\n",
    "- 4.02: Non-Reliance on Previously Issued Financial Statements or a Related Audit Report or Completed Interim Review\n",
    "\n",
    "#### Section 5 - Corporate Governance and Management\n",
    "\n",
    "- 5.02: Departure/Election of Directors and Officers; Compensatory Arrangements of Officers\n",
    "\n",
    "#### Section 7 - Regulation FD\n",
    "\n",
    "- 7.01: Regulation FD Disclosure\n",
    "\n",
    "### Section 8 - Other Events\n",
    "\n",
    "- 8.01: Other Events\n",
    "\n",
    "### Section 9 - Financial Statements and Exhibits\n",
    "\n",
    "- 9.01: Financial Statements and Exhibits"
   ]
  },
  {
   "cell_type": "markdown",
   "metadata": {},
   "source": [
    "![Monthly Filing Volume of 8-Ks by Item](https://imgur.com/vHnEhVy.png)"
   ]
  },
  {
   "cell_type": "markdown",
   "metadata": {},
   "source": [
    "## Example - Item 4.02: Non-Reliance on Previously Issued Financial Statements"
   ]
  },
  {
   "cell_type": "markdown",
   "metadata": {},
   "source": []
  }
 ],
 "metadata": {
  "language_info": {
   "name": "python"
  }
 },
 "nbformat": 4,
 "nbformat_minor": 2
}
