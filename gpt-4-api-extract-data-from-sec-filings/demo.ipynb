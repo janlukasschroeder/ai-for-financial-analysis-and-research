{
 "cells": [
  {
   "cell_type": "markdown",
   "metadata": {},
   "source": [
    "# GPT-4 API: Extract Structured Data from SEC Filings (Material Event Disclosures)\n",
    "\n",
    "Data sources used:\n",
    "- SEC-API.io\n",
    "- AlgoSeek\n",
    "- WRDS Fundamental Data\n",
    "\n",
    "Logic:\n",
    "\n",
    "- Query API to download metadata of 8-Ks with Item 4.02 => create file `8K-filing-metadata.csv`\n",
    "- Extractor API to extract and download Item 4.02 sections => save to `./data/edgar/8K-item-4.02/CIK/ACCESSION-NO-item-4-2.txt`\n",
    "- Pre-select 100 filings that deal with revenue recognition errors, and where 50% impact is material and 50% not-material.\n",
    "- For each item section, extract structured data using GPT4 and save to `./data/edgar/8K-item-4.02/CIK/ACCESSION-NO-item-4-2-structured-data.json`\n",
    "- For each CIK, and `filedAt`, read `Years since IPO` and `market cap` from `fundamentals`\n",
    "- For each filing, calculate 1/2/3/5/10/20 day return after filing was disclosed\n",
    "  - Plot return distributions for each day\n",
    "  - Display descriptive stats\n",
    "\n",
    "More:\n",
    "- https://sec-api.io/resources/analyze-8-k-filings-and-material-event-disclosure-activity"
   ]
  },
  {
   "cell_type": "markdown",
   "metadata": {},
   "source": []
  },
  {
   "cell_type": "markdown",
   "metadata": {},
   "source": [
    "## Step 1: Locate URLs of 8-K Filings with Item 4.02"
   ]
  },
  {
   "cell_type": "code",
   "execution_count": 1,
   "metadata": {},
   "outputs": [
    {
     "data": {
      "text/plain": [
       "True"
      ]
     },
     "execution_count": 1,
     "metadata": {},
     "output_type": "execute_result"
    }
   ],
   "source": [
    "# load OPENAI_API_KEY value from .env file\n",
    "from dotenv import load_dotenv\n",
    "\n",
    "load_dotenv()"
   ]
  },
  {
   "cell_type": "code",
   "execution_count": 2,
   "metadata": {},
   "outputs": [
    {
     "name": "stdout",
     "output_type": "stream",
     "text": [
      "\n",
      "\u001b[1m[\u001b[0m\u001b[34;49mnotice\u001b[0m\u001b[1;39;49m]\u001b[0m\u001b[39;49m A new release of pip is available: \u001b[0m\u001b[31;49m23.0\u001b[0m\u001b[39;49m -> \u001b[0m\u001b[32;49m24.0\u001b[0m\n",
      "\u001b[1m[\u001b[0m\u001b[34;49mnotice\u001b[0m\u001b[1;39;49m]\u001b[0m\u001b[39;49m To update, run: \u001b[0m\u001b[32;49mpip install --upgrade pip\u001b[0m\n"
     ]
    }
   ],
   "source": [
    "!pip -q install sec-api"
   ]
  },
  {
   "cell_type": "code",
   "execution_count": 87,
   "metadata": {},
   "outputs": [
    {
     "data": {
      "text/html": [
       "<div>\n",
       "<style scoped>\n",
       "    .dataframe tbody tr th:only-of-type {\n",
       "        vertical-align: middle;\n",
       "    }\n",
       "\n",
       "    .dataframe tbody tr th {\n",
       "        vertical-align: top;\n",
       "    }\n",
       "\n",
       "    .dataframe thead th {\n",
       "        text-align: right;\n",
       "    }\n",
       "</style>\n",
       "<table border=\"1\" class=\"dataframe\">\n",
       "  <thead>\n",
       "    <tr style=\"text-align: right;\">\n",
       "      <th></th>\n",
       "      <th>formType</th>\n",
       "      <th>filedAt</th>\n",
       "      <th>accessionNo</th>\n",
       "      <th>ticker</th>\n",
       "      <th>cik</th>\n",
       "      <th>companyName</th>\n",
       "      <th>items</th>\n",
       "      <th>linkToFilingDetails</th>\n",
       "    </tr>\n",
       "  </thead>\n",
       "  <tbody>\n",
       "    <tr>\n",
       "      <th>0</th>\n",
       "      <td>8-K</td>\n",
       "      <td>2022-12-27T16:20:13-05:00</td>\n",
       "      <td>0001213900-22-082892</td>\n",
       "      <td>POLCQ</td>\n",
       "      <td>1810140</td>\n",
       "      <td>Polished.com Inc.</td>\n",
       "      <td>[Item 4.01: Changes in Registrant's Certifying...</td>\n",
       "      <td>https://www.sec.gov/Archives/edgar/data/181014...</td>\n",
       "    </tr>\n",
       "    <tr>\n",
       "      <th>1</th>\n",
       "      <td>8-K</td>\n",
       "      <td>2022-12-22T16:30:53-05:00</td>\n",
       "      <td>0001493152-22-036320</td>\n",
       "      <td>GLLI</td>\n",
       "      <td>1888734</td>\n",
       "      <td>GLOBALINK INVESTMENT INC.</td>\n",
       "      <td>[Item 4.02: Non-Reliance on Previously Issued ...</td>\n",
       "      <td>https://www.sec.gov/Archives/edgar/data/188873...</td>\n",
       "    </tr>\n",
       "    <tr>\n",
       "      <th>2</th>\n",
       "      <td>8-K</td>\n",
       "      <td>2022-12-21T17:25:38-05:00</td>\n",
       "      <td>0001213900-22-081850</td>\n",
       "      <td>CLRC</td>\n",
       "      <td>1903392</td>\n",
       "      <td>ClimateRock</td>\n",
       "      <td>[Item 4.02: Non-Reliance on Previously Issued ...</td>\n",
       "      <td>https://www.sec.gov/Archives/edgar/data/190339...</td>\n",
       "    </tr>\n",
       "    <tr>\n",
       "      <th>3</th>\n",
       "      <td>8-K</td>\n",
       "      <td>2022-12-16T16:17:36-05:00</td>\n",
       "      <td>0001185185-22-001426</td>\n",
       "      <td>FEIM</td>\n",
       "      <td>39020</td>\n",
       "      <td>FREQUENCY ELECTRONICS INC</td>\n",
       "      <td>[Item 2.02: Results of Operations and Financia...</td>\n",
       "      <td>https://www.sec.gov/Archives/edgar/data/39020/...</td>\n",
       "    </tr>\n",
       "    <tr>\n",
       "      <th>4</th>\n",
       "      <td>8-K</td>\n",
       "      <td>2022-12-16T16:05:27-05:00</td>\n",
       "      <td>0001493152-22-035733</td>\n",
       "      <td>VTRO</td>\n",
       "      <td>793171</td>\n",
       "      <td>Vitro Biopharma, Inc.</td>\n",
       "      <td>[Item 4.02: Non-Reliance on Previously Issued ...</td>\n",
       "      <td>https://www.sec.gov/Archives/edgar/data/793171...</td>\n",
       "    </tr>\n",
       "  </tbody>\n",
       "</table>\n",
       "</div>"
      ],
      "text/plain": [
       "  formType                    filedAt           accessionNo ticker      cik  \\\n",
       "0      8-K  2022-12-27T16:20:13-05:00  0001213900-22-082892  POLCQ  1810140   \n",
       "1      8-K  2022-12-22T16:30:53-05:00  0001493152-22-036320   GLLI  1888734   \n",
       "2      8-K  2022-12-21T17:25:38-05:00  0001213900-22-081850   CLRC  1903392   \n",
       "3      8-K  2022-12-16T16:17:36-05:00  0001185185-22-001426   FEIM    39020   \n",
       "4      8-K  2022-12-16T16:05:27-05:00  0001493152-22-035733   VTRO   793171   \n",
       "\n",
       "                 companyName  \\\n",
       "0          Polished.com Inc.   \n",
       "1  GLOBALINK INVESTMENT INC.   \n",
       "2                ClimateRock   \n",
       "3  FREQUENCY ELECTRONICS INC   \n",
       "4      Vitro Biopharma, Inc.   \n",
       "\n",
       "                                               items  \\\n",
       "0  [Item 4.01: Changes in Registrant's Certifying...   \n",
       "1  [Item 4.02: Non-Reliance on Previously Issued ...   \n",
       "2  [Item 4.02: Non-Reliance on Previously Issued ...   \n",
       "3  [Item 2.02: Results of Operations and Financia...   \n",
       "4  [Item 4.02: Non-Reliance on Previously Issued ...   \n",
       "\n",
       "                                 linkToFilingDetails  \n",
       "0  https://www.sec.gov/Archives/edgar/data/181014...  \n",
       "1  https://www.sec.gov/Archives/edgar/data/188873...  \n",
       "2  https://www.sec.gov/Archives/edgar/data/190339...  \n",
       "3  https://www.sec.gov/Archives/edgar/data/39020/...  \n",
       "4  https://www.sec.gov/Archives/edgar/data/793171...  "
      ]
     },
     "execution_count": 87,
     "metadata": {},
     "output_type": "execute_result"
    }
   ],
   "source": [
    "import os\n",
    "from sec_api import QueryApi\n",
    "import pandas as pd\n",
    "\n",
    "SEC_API_KEY = os.getenv(\"SEC_API_KEY\")\n",
    "\n",
    "queryApi = QueryApi(api_key=SEC_API_KEY)\n",
    "\n",
    "payload = {\n",
    "    \"query\": 'formType:\"8-K\" AND items:\"4.02\" AND filedAt:[2022-01-01 TO 2022-12-31]',\n",
    "    \"from\": \"0\",\n",
    "    \"size\": \"50\",\n",
    "    \"sort\": [{\"filedAt\": {\"order\": \"desc\"}}],\n",
    "}\n",
    "\n",
    "response = queryApi.get_filings(payload)\n",
    "\n",
    "# Convert JSON array to DataFrame\n",
    "metadata_sample = pd.DataFrame(response[\"filings\"])\n",
    "\n",
    "columns_of_interest = [\n",
    "    \"formType\",\n",
    "    \"filedAt\",\n",
    "    \"accessionNo\",\n",
    "    \"ticker\",\n",
    "    \"cik\",\n",
    "    \"companyName\",\n",
    "    \"items\",\n",
    "    \"linkToFilingDetails\",\n",
    "]\n",
    "\n",
    "metadata_sample[columns_of_interest].head(5)"
   ]
  },
  {
   "cell_type": "code",
   "execution_count": 88,
   "metadata": {},
   "outputs": [],
   "source": [
    "# Get first 50 filings of each month in 2022 (for demonstration purposes only)\n",
    "# In practice, you would want to get all filings for the year (or a longer period of time)\n",
    "def get_filings_metadata(year=2022):\n",
    "    metadata_list = []\n",
    "\n",
    "    for month in range(1, 13):\n",
    "        # Iterate over \"from\" in 50 increments to get all filings for the year\n",
    "        # for i in range(0, 10000, 50): # Uncomment to get all filings for the year\n",
    "        for i in range(\n",
    "            0, 50, 50\n",
    "        ):  # For demonstration purposes, only get first 50 filings of each month\n",
    "            payload = {\n",
    "                \"query\": f'formType:\"8-K\" AND items:\"4.02\" AND filedAt:[{year}-{month:02d}-01 TO {year}-{month:02d}-31]',\n",
    "                \"from\": i,\n",
    "                \"size\": \"50\",\n",
    "                \"sort\": [{\"filedAt\": {\"order\": \"desc\"}}],\n",
    "            }\n",
    "            response = queryApi.get_filings(payload)\n",
    "            if len(response[\"filings\"]) == 0:\n",
    "                break\n",
    "            metadata_list.append(response[\"filings\"])\n",
    "\n",
    "        print(f\"✅ Month {month:02d} completed\")\n",
    "\n",
    "    # Flatten the list of lists: [[1, 2], [3, 4]] -> [1, 2, 3, 4]\n",
    "    metadata_list = [item for sublist in metadata_list for item in sublist]\n",
    "    print(f\"✅ Done. Total filings: {len(metadata_list)}\")\n",
    "    # Convert JSON array to DataFrame\n",
    "    metadata_df = pd.DataFrame(metadata_list)\n",
    "\n",
    "    return metadata_df[\n",
    "        [\n",
    "            \"formType\",\n",
    "            \"filedAt\",\n",
    "            \"accessionNo\",\n",
    "            \"ticker\",\n",
    "            \"cik\",\n",
    "            \"companyName\",\n",
    "            \"items\",\n",
    "            \"linkToFilingDetails\",\n",
    "        ]\n",
    "    ]"
   ]
  },
  {
   "cell_type": "code",
   "execution_count": 89,
   "metadata": {},
   "outputs": [
    {
     "name": "stdout",
     "output_type": "stream",
     "text": [
      "✅ Month 01 completed\n",
      "✅ Month 02 completed\n",
      "✅ Month 03 completed\n",
      "✅ Month 04 completed\n",
      "✅ Month 05 completed\n",
      "✅ Month 06 completed\n",
      "✅ Month 07 completed\n",
      "✅ Month 08 completed\n",
      "✅ Month 09 completed\n",
      "✅ Month 10 completed\n",
      "✅ Month 11 completed\n",
      "✅ Month 12 completed\n",
      "✅ Done. Total filings: 305\n"
     ]
    }
   ],
   "source": [
    "metadata_2022 = get_filings_metadata(2022)"
   ]
  },
  {
   "cell_type": "code",
   "execution_count": 90,
   "metadata": {},
   "outputs": [
    {
     "data": {
      "text/html": [
       "<div>\n",
       "<style scoped>\n",
       "    .dataframe tbody tr th:only-of-type {\n",
       "        vertical-align: middle;\n",
       "    }\n",
       "\n",
       "    .dataframe tbody tr th {\n",
       "        vertical-align: top;\n",
       "    }\n",
       "\n",
       "    .dataframe thead th {\n",
       "        text-align: right;\n",
       "    }\n",
       "</style>\n",
       "<table border=\"1\" class=\"dataframe\">\n",
       "  <thead>\n",
       "    <tr style=\"text-align: right;\">\n",
       "      <th></th>\n",
       "      <th>formType</th>\n",
       "      <th>filedAt</th>\n",
       "      <th>accessionNo</th>\n",
       "      <th>ticker</th>\n",
       "      <th>cik</th>\n",
       "      <th>companyName</th>\n",
       "      <th>items</th>\n",
       "      <th>linkToFilingDetails</th>\n",
       "    </tr>\n",
       "  </thead>\n",
       "  <tbody>\n",
       "    <tr>\n",
       "      <th>0</th>\n",
       "      <td>8-K</td>\n",
       "      <td>2022-01-31T21:35:24-05:00</td>\n",
       "      <td>0001829126-22-002268</td>\n",
       "      <td></td>\n",
       "      <td>1740742</td>\n",
       "      <td>TransparentBusiness, Inc.</td>\n",
       "      <td>[Item 4.01: Changes in Registrant's Certifying...</td>\n",
       "      <td>https://www.sec.gov/Archives/edgar/data/174074...</td>\n",
       "    </tr>\n",
       "    <tr>\n",
       "      <th>1</th>\n",
       "      <td>8-K</td>\n",
       "      <td>2022-01-31T08:50:59-05:00</td>\n",
       "      <td>0001104659-22-009285</td>\n",
       "      <td>OEPW</td>\n",
       "      <td>1824677</td>\n",
       "      <td>One Equity Partners Open Water I Corp.</td>\n",
       "      <td>[Item 4.02: Non-Reliance on Previously Issued ...</td>\n",
       "      <td>https://www.sec.gov/Archives/edgar/data/182467...</td>\n",
       "    </tr>\n",
       "    <tr>\n",
       "      <th>2</th>\n",
       "      <td>8-K</td>\n",
       "      <td>2022-01-31T07:03:59-05:00</td>\n",
       "      <td>0001564590-22-003120</td>\n",
       "      <td>BIOCQ</td>\n",
       "      <td>1044378</td>\n",
       "      <td>BIOCEPT INC</td>\n",
       "      <td>[Item 4.02: Non-Reliance on Previously Issued ...</td>\n",
       "      <td>https://www.sec.gov/Archives/edgar/data/104437...</td>\n",
       "    </tr>\n",
       "    <tr>\n",
       "      <th>3</th>\n",
       "      <td>8-K</td>\n",
       "      <td>2022-01-28T17:40:28-05:00</td>\n",
       "      <td>0001213900-22-004297</td>\n",
       "      <td>SCAQ</td>\n",
       "      <td>1821812</td>\n",
       "      <td>Stratim Cloud Acquisition Corp.</td>\n",
       "      <td>[Item 4.02: Non-Reliance on Previously Issued ...</td>\n",
       "      <td>https://www.sec.gov/Archives/edgar/data/182181...</td>\n",
       "    </tr>\n",
       "    <tr>\n",
       "      <th>4</th>\n",
       "      <td>8-K</td>\n",
       "      <td>2022-01-28T17:02:06-05:00</td>\n",
       "      <td>0001193125-22-021724</td>\n",
       "      <td>DTRT</td>\n",
       "      <td>1865537</td>\n",
       "      <td>DTRT Health Acquisition Corp.</td>\n",
       "      <td>[Item 4.02: Non-Reliance on Previously Issued ...</td>\n",
       "      <td>https://www.sec.gov/Archives/edgar/data/186553...</td>\n",
       "    </tr>\n",
       "  </tbody>\n",
       "</table>\n",
       "</div>"
      ],
      "text/plain": [
       "  formType                    filedAt           accessionNo ticker      cik  \\\n",
       "0      8-K  2022-01-31T21:35:24-05:00  0001829126-22-002268         1740742   \n",
       "1      8-K  2022-01-31T08:50:59-05:00  0001104659-22-009285   OEPW  1824677   \n",
       "2      8-K  2022-01-31T07:03:59-05:00  0001564590-22-003120  BIOCQ  1044378   \n",
       "3      8-K  2022-01-28T17:40:28-05:00  0001213900-22-004297   SCAQ  1821812   \n",
       "4      8-K  2022-01-28T17:02:06-05:00  0001193125-22-021724   DTRT  1865537   \n",
       "\n",
       "                              companyName  \\\n",
       "0               TransparentBusiness, Inc.   \n",
       "1  One Equity Partners Open Water I Corp.   \n",
       "2                             BIOCEPT INC   \n",
       "3         Stratim Cloud Acquisition Corp.   \n",
       "4           DTRT Health Acquisition Corp.   \n",
       "\n",
       "                                               items  \\\n",
       "0  [Item 4.01: Changes in Registrant's Certifying...   \n",
       "1  [Item 4.02: Non-Reliance on Previously Issued ...   \n",
       "2  [Item 4.02: Non-Reliance on Previously Issued ...   \n",
       "3  [Item 4.02: Non-Reliance on Previously Issued ...   \n",
       "4  [Item 4.02: Non-Reliance on Previously Issued ...   \n",
       "\n",
       "                                 linkToFilingDetails  \n",
       "0  https://www.sec.gov/Archives/edgar/data/174074...  \n",
       "1  https://www.sec.gov/Archives/edgar/data/182467...  \n",
       "2  https://www.sec.gov/Archives/edgar/data/104437...  \n",
       "3  https://www.sec.gov/Archives/edgar/data/182181...  \n",
       "4  https://www.sec.gov/Archives/edgar/data/186553...  "
      ]
     },
     "execution_count": 90,
     "metadata": {},
     "output_type": "execute_result"
    }
   ],
   "source": [
    "metadata_2022.head(5)"
   ]
  },
  {
   "cell_type": "code",
   "execution_count": 91,
   "metadata": {},
   "outputs": [],
   "source": [
    "# Save the DataFrame to a CSV file ./data/edgar/8K-filing-metadata.csv\n",
    "metadata_2022.to_csv(\"./data/edgar/8K-filing-metadata.csv\", index=False)"
   ]
  },
  {
   "cell_type": "markdown",
   "metadata": {},
   "source": [
    "## Step 2: Download Item 4.02 Sections\n",
    "\n",
    "- Use `pandarallel` to parallelize downloading of Item 4.02 sections and speed up the process."
   ]
  },
  {
   "cell_type": "code",
   "execution_count": 94,
   "metadata": {},
   "outputs": [],
   "source": [
    "from sec_api import ExtractorApi\n",
    "import time\n",
    "\n",
    "extractorApi = ExtractorApi(SEC_API_KEY)\n",
    "\n",
    "\n",
    "def extract_section_4_02_and_save_to_file(df_row, retry_count=0):\n",
    "    cik = df_row[\"cik\"]\n",
    "    accessionNo = df_row[\"accessionNo\"]\n",
    "    filingUrl = df_row[\"linkToFilingDetails\"]\n",
    "    itemId = \"4-2\"\n",
    "    try:\n",
    "        # Check if output directory exists, if not create it\n",
    "        output_dir = f\"./data/edgar/8K-item-4.02/{cik}\"\n",
    "        os.makedirs(output_dir, exist_ok=True)\n",
    "        # Save extracted text to a file ./data/edgar/{cik}/{accessionNo}-item-{itemId}.txt\n",
    "        file_name = f\"{accessionNo}-item-{itemId}.txt\"\n",
    "        file_path = os.path.join(output_dir, file_name)\n",
    "        # Skip if the file already exists\n",
    "        if os.path.exists(file_path):\n",
    "            return\n",
    "\n",
    "        section_content = extractorApi.get_section(filingUrl, itemId, \"text\")\n",
    "        \n",
    "        with open(file_path, \"w\") as f:\n",
    "            f.write(section_content)\n",
    "    except Exception as e:\n",
    "        # If e contains 429, retry the request after waiting for \n",
    "        # 300 milliseconds to the power of retry_count\n",
    "        if \"429\" in str(e) and retry_count < 3:\n",
    "            print(f\"Retrying for CIK {cik} at {filingUrl}\")\n",
    "            time.sleep(0.3 ** (retry_count + 1))\n",
    "            return extract_section_4_02_and_save_to_file(df_row, retry_count + 1)\n",
    "        else:\n",
    "            print(f\"Failed to extract item {itemId} for CIK {cik} at {filingUrl}\")\n",
    "            print(e)"
   ]
  },
  {
   "cell_type": "code",
   "execution_count": 95,
   "metadata": {},
   "outputs": [],
   "source": [
    "# Test\n",
    "single = metadata_2022.iloc[0]\n",
    "extract_section_4_02_and_save_to_file(single)"
   ]
  },
  {
   "cell_type": "code",
   "execution_count": 58,
   "metadata": {},
   "outputs": [],
   "source": [
    "!pip -q install pandarallel ipywidgets"
   ]
  },
  {
   "cell_type": "code",
   "execution_count": 96,
   "metadata": {},
   "outputs": [
    {
     "data": {
      "application/vnd.jupyter.widget-view+json": {
       "model_id": "f0fc6d044b0d43ec93a1d6cfba122479",
       "version_major": 2,
       "version_minor": 0
      },
      "text/plain": [
       "VBox(children=(HBox(children=(IntProgress(value=0, description='0.00%', max=31), Label(value='0 / 31'))), HBox…"
      ]
     },
     "metadata": {},
     "output_type": "display_data"
    },
    {
     "name": "stdout",
     "output_type": "stream",
     "text": [
      "✅ All sections extracted and saved to files\n"
     ]
    }
   ],
   "source": [
    "from pandarallel import pandarallel\n",
    "\n",
    "number_of_parallel_downloads = 10\n",
    "\n",
    "pandarallel.initialize(\n",
    "    progress_bar=True, nb_workers=number_of_parallel_downloads, verbose=1\n",
    ")\n",
    "\n",
    "metadata_2022.parallel_apply(extract_section_4_02_and_save_to_file, axis=1)\n",
    "\n",
    "print(\"✅ All sections extracted and saved to files\")"
   ]
  },
  {
   "cell_type": "markdown",
   "metadata": {},
   "source": [
    "## Step 3: Use GPT-4 API to Extract Structured Data"
   ]
  },
  {
   "cell_type": "code",
   "execution_count": 98,
   "metadata": {},
   "outputs": [
    {
     "name": "stdout",
     "output_type": "stream",
     "text": [
      "📄 Sample section from https://www.sec.gov/Archives/edgar/data/1740742/000182912622002268/transparentbusiness_8k.htm\n"
     ]
    },
    {
     "data": {
      "text/html": [
       " Item 4.02 Non-Reliance on Previously Issued Financial Statements or a Related Audit Report or Completed Interim Review. &#160;\n",
       "\n",
       "On April 30, 2021, the Company filed with the SEC its General Form for Registration of Securities on Form 10-12G, and an amendment to Form 10-12G filed on August 9, 2021, together with all exhibits thereto, which included its Financial Statements as of December 31, 2020 and 2019 . In August 2021 the Former Auditor brought to the attention of the Company potential errors in the accounting related to the Company&#8217;s deferred tax liabilities and certain income tax disclosures. On January 26, 2022, after internal analysis and consultation with its technical accountants and counsel, the management of the Company determined that the Financial Statements should no longer be relied upon because the Company concluded that there was an error related to accounting for deferred tax liabilities. The error is deemed material to the financial statements for the year ended December 31, 2020 and will result in the restatement of our financial statements.\n",
       "\n",
       "&#160;\n",
       "\n",
       "Subsequent to the Company&#8217;s Form 10-12G filing, the error that was identified related to accounting for income taxes of the ITSQuest entity in which the Company acquired a 51% interest in November 2020. In connection with accounting for the acquisition, the Company recorded an intangible asset of approximately $3.8 million resulting in the creation of a deferred tax liability of $969,940. The tax provision in the Company&#8217;s Financial Statements netted this deferred tax liability against the Company&#8217;s deferred tax asset, reducing the Company&#8217;s valuation allowance. Upon further review, the Company and its technical advisors determined that because the Company and ITSQuest do not file a consolidated tax return, the deferred tax liability should not have been netted against the Company&#8217;s deferred tax asset. As a result, deferred tax liabilities and Goodwill were both understated by $969,940 as of December 31, 2020. In connection with this error, the Company&#8217;s management concluded that a material weakness exists in the Company&#8217;s internal control over financial reporting with respect to the review and accounting for income taxes.\n",
       "\n",
       "&#160;\n",
       "\n",
       "The Company has discussed the matters disclosed in this Current Report on Form 8-K, pursuant to this Item 4.02(a), with the Former Auditor and with Paris Kreit &#38; Chiu. Both firms were provided with a copy of the disclosures made herein and were given the opportunity, no later than the day of the filing of this Current Report on Form 8-K, to review these disclosures.\n",
       "\n",
       "&#160;\n",
       "\n",
       "The Company will be refiling the fiscal year financial statements for 2020, at a later date after adjusting the effect of these errors. Until such time, investors and other users of our filings with the SEC are cautioned to not rely on our financial statements in question, to the extent that they are affected by the accounting issues described above. Similarly, related press releases, earnings releases, and investor communications describing the Company's financial statements for these periods should no longer be relied upon. \n",
       "\n",
       "&#160;\n",
       "\n"
      ],
      "text/plain": [
       "<IPython.core.display.HTML object>"
      ]
     },
     "metadata": {},
     "output_type": "display_data"
    }
   ],
   "source": [
    "from IPython.display import display, HTML\n",
    "\n",
    "# Load an extracted section from a sample filing\n",
    "sample_filing = metadata_2022.iloc[0]\n",
    "cik = sample_filing[\"cik\"]\n",
    "accessionNo = sample_filing[\"accessionNo\"]\n",
    "filingUrl = sample_filing[\"linkToFilingDetails\"]\n",
    "file_name = f\"{accessionNo}-item-4-2.txt\"\n",
    "file_path = f\"./data/edgar/8K-item-4.02/{cik}/{file_name}\"\n",
    "\n",
    "with open(file_path, \"r\") as f:\n",
    "    sample_section = f.read()\n",
    "\n",
    "print(f\"📄 Sample section from {filingUrl}\")\n",
    "display(HTML(sample_section))"
   ]
  },
  {
   "cell_type": "code",
   "execution_count": 102,
   "metadata": {},
   "outputs": [
    {
     "name": "stdout",
     "output_type": "stream",
     "text": [
      " Item 4.02 Non-Reliance on Previously Issued Financial Statements or a Related Audit Report or Completed Interim Review. &#160;\n",
      "\n",
      "On April 30, 2021, the Company filed with the SEC its General Form for Registration of Securities on Form 10-12G, and an amendment to Form 10-12G filed on August 9, 2021, together with all exhibits thereto, which included its Financial Statements as of December 31, 2020 and 2019 . In August 2021 the Former Auditor brought to the attention of the Company potential errors in the accounting related to the Company&#8217;s deferred tax liabilities and certain income tax disclosures. On January 26, 2022, after internal analysis and consultation with its technical accountants and counsel, the management of the Company determined that the Financial Statements should no longer be relied upon because the Company concluded that there was an error related to accounting for deferred tax liabilities. The error is deemed material to the financial statements for the year ended December 31, 2020 and will result in the restatement of our financial statements.\n",
      "\n",
      "&#160;\n",
      "\n",
      "Subsequent to the Company&#8217;s Form 10-12G filing, the error that was identified related to accounting for income taxes of the ITSQuest entity in which the Company acquired a 51% interest in November 2020. In connection with accounting for the acquisition, the Company recorded an intangible asset of approximately $3.8 million resulting in the creation of a deferred tax liability of $969,940. The tax provision in the Company&#8217;s Financial Statements netted this deferred tax liability against the Company&#8217;s deferred tax asset, reducing the Company&#8217;s valuation allowance. Upon further review, the Company and its technical advisors determined that because the Company and ITSQuest do not file a consolidated tax return, the deferred tax liability should not have been netted against the Company&#8217;s deferred tax asset. As a result, deferred tax liabilities and Goodwill were both understated by $969,940 as of December 31, 2020. In connection with this error, the Company&#8217;s management concluded that a material weakness exists in the Company&#8217;s internal control over financial reporting with respect to the review and accounting for income taxes.\n",
      "\n",
      "&#160;\n",
      "\n",
      "The Company has discussed the matters disclosed in this Current Report on Form 8-K, pursuant to this Item 4.02(a), with the Former Auditor and with Paris Kreit &#38; Chiu. Both firms were provided with a copy of the disclosures made herein and were given the opportunity, no later than the day of the filing of this Current Report on Form 8-K, to review these disclosures.\n",
      "\n",
      "&#160;\n",
      "\n",
      "The Company will be refiling the fiscal year financial statements for 2020, at a later date after adjusting the effect of these errors. Until such time, investors and other users of our filings with the SEC are cautioned to not rely on our financial statements in question, to the extent that they are affected by the accounting issues described above. Similarly, related press releases, earnings releases, and investor communications describing the Company's financial statements for these periods should no longer be relied upon. \n",
      "\n",
      "&#160;\n",
      "\n",
      "\n"
     ]
    }
   ],
   "source": [
    "print(sample_section)"
   ]
  },
  {
   "cell_type": "code",
   "execution_count": 105,
   "metadata": {},
   "outputs": [],
   "source": [
    "from openai import OpenAI\n",
    "\n",
    "openai_client = OpenAI()\n",
    "\n",
    "prompt = f\"\"\"Task: Given the following 8-K filing section 4.02, extract the key components of the disclosure, the identified issue (or issues), affected reporting periods, whether a restatement is neccesary or not, the reasons for a restatement, the impact of the error, whether the impact is material or not, the company's auditor, and the event classiciation. Return the extracted structured data as a JSON object. Only respond with the JSON object, and do not respond with anything else.\n",
    "\n",
    "Structure of JSON object:\n",
    "'''8K-background.ipynb\n",
    "{{\n",
    "  \"keyComponents\": \"...\", // string: key components of the disclosure\n",
    "  \"identifiedIssue\": [\"...\"], // array of strings: identified issue (or issues)\n",
    "  \"affectedReportingPeriods\": [\"...\"], // array of strings: affected reporting periods in format \"Q1 2023\", \"Q2 2023\", etc. or \"FY 2023\"\n",
    "  \"restatementIsNecessary\": true|false, // boolean: whether a restatement is necessary or not\n",
    "  \"reasonsForRestatement\": [\"...\"], // array of strings: reasons for a restatement\n",
    "  \"impactOfError\": \"...\", // string: impact of the error\n",
    "  \"impactIsMaterial\": true|false, // boolean: whether the impact is material or not\n",
    "  \"auditors\": [\"...\"], // array of string: company's auditor or auditors. If no auditor is mentioned, return an empty array. If multiple auditors are mentioned, return an array with all auditors.\n",
    "  \"eventClassification\": \"...\" // string: event classification, such as \"Financial Restatement Due to Revenue Recognition Errors\"\n",
    "}}\n",
    "'''\n",
    "\n",
    "Input text:\n",
    "'''\n",
    "{sample_section}\n",
    "'''\n",
    "\n",
    "Response:\n",
    "\"\"\"\n",
    "\n",
    "response = openai_client.chat.completions.create(\n",
    "    model=\"gpt-4-turbo\",\n",
    "    messages=[{\"role\": \"user\", \"content\": prompt}],\n",
    ")"
   ]
  },
  {
   "cell_type": "code",
   "execution_count": 110,
   "metadata": {},
   "outputs": [
    {
     "name": "stdout",
     "output_type": "stream",
     "text": [
      "{\n",
      "  \"keyComponents\": \"Non-Reliance on Previously Issued Financial Statements due to errors in deferred tax liabilities and income tax disclosures, involving discussions with Former Auditor and a new auditor team, leading to an impending restatement of the financials for FY 2020.\",\n",
      "  \"identifiedIssue\": [\n",
      "    \"Errors in accounting for deferred tax liabilities\",\n",
      "    \"Incorrect netting of deferred tax liability against deferred tax asset due to non-consolidated tax filing status with ITSQuest\"\n",
      "  ],\n",
      "  \"affectedReportingPeriods\": [\n",
      "    \"FY 2020\"\n",
      "  ],\n",
      "  \"restatementIsNecessary\": true,\n",
      "  \"reasonsForRestatement\": [\n",
      "    \"Material errors identified in the accounting for income taxes and deferred tax liabilities\",\n",
      "    \"Understatement of deferred tax liabilities and Goodwill by $969,940\"\n",
      "  ],\n",
      "  \"impactOfError\": \"Material understatement of deferred tax liabilities and Goodwill by $969,940\",\n",
      "  \"impactIsMaterial\": true,\n",
      "  \"auditors\": [\n",
      "    \"Former Auditor\",\n",
      "    \"Paris Kreit & Chiu\"\n",
      "  ],\n",
      "  \"eventClassification\": \"Financial Restatement Due to Revenue Recognition Errors\"\n",
      "}\n"
     ]
    }
   ],
   "source": [
    "response_string = response.choices[0].message.content\n",
    "print(response_string)"
   ]
  },
  {
   "cell_type": "code",
   "execution_count": 111,
   "metadata": {},
   "outputs": [
    {
     "data": {
      "text/plain": [
       "{'keyComponents': 'Non-Reliance on Previously Issued Financial Statements due to errors in deferred tax liabilities and income tax disclosures, involving discussions with Former Auditor and a new auditor team, leading to an impending restatement of the financials for FY 2020.',\n",
       " 'identifiedIssue': ['Errors in accounting for deferred tax liabilities',\n",
       "  'Incorrect netting of deferred tax liability against deferred tax asset due to non-consolidated tax filing status with ITSQuest'],\n",
       " 'affectedReportingPeriods': ['FY 2020'],\n",
       " 'restatementIsNecessary': True,\n",
       " 'reasonsForRestatement': ['Material errors identified in the accounting for income taxes and deferred tax liabilities',\n",
       "  'Understatement of deferred tax liabilities and Goodwill by $969,940'],\n",
       " 'impactOfError': 'Material understatement of deferred tax liabilities and Goodwill by $969,940',\n",
       " 'impactIsMaterial': True,\n",
       " 'auditors': ['Former Auditor', 'Paris Kreit & Chiu'],\n",
       " 'eventClassification': 'Financial Restatement Due to Revenue Recognition Errors'}"
      ]
     },
     "execution_count": 111,
     "metadata": {},
     "output_type": "execute_result"
    }
   ],
   "source": [
    "import json\n",
    "\n",
    "# Remove starting \"```json\" and ending \"```\" values from GPTs response\n",
    "response_string = response_string.replace(\"```json\\n\", \"\").replace(\"```\", \"\").replace(\"\\n\", \"\")\n",
    "# Convert to JSON object\n",
    "response_json = json.loads(response_string)\n",
    "response_json"
   ]
  },
  {
   "cell_type": "code",
   "execution_count": 112,
   "metadata": {},
   "outputs": [
    {
     "data": {
      "text/html": [
       "<div>\n",
       "<style scoped>\n",
       "    .dataframe tbody tr th:only-of-type {\n",
       "        vertical-align: middle;\n",
       "    }\n",
       "\n",
       "    .dataframe tbody tr th {\n",
       "        vertical-align: top;\n",
       "    }\n",
       "\n",
       "    .dataframe thead th {\n",
       "        text-align: right;\n",
       "    }\n",
       "</style>\n",
       "<table border=\"1\" class=\"dataframe\">\n",
       "  <thead>\n",
       "    <tr style=\"text-align: right;\">\n",
       "      <th></th>\n",
       "      <th>keyComponents</th>\n",
       "      <th>identifiedIssue</th>\n",
       "      <th>affectedReportingPeriods</th>\n",
       "      <th>restatementIsNecessary</th>\n",
       "      <th>reasonsForRestatement</th>\n",
       "      <th>impactOfError</th>\n",
       "      <th>impactIsMaterial</th>\n",
       "      <th>auditors</th>\n",
       "      <th>eventClassification</th>\n",
       "    </tr>\n",
       "  </thead>\n",
       "  <tbody>\n",
       "    <tr>\n",
       "      <th>0</th>\n",
       "      <td>Non-Reliance on Previously Issued Financial St...</td>\n",
       "      <td>[Errors in accounting for deferred tax liabili...</td>\n",
       "      <td>[FY 2020]</td>\n",
       "      <td>True</td>\n",
       "      <td>[Material errors identified in the accounting ...</td>\n",
       "      <td>Material understatement of deferred tax liabil...</td>\n",
       "      <td>True</td>\n",
       "      <td>[Former Auditor, Paris Kreit &amp; Chiu]</td>\n",
       "      <td>Financial Restatement Due to Revenue Recogniti...</td>\n",
       "    </tr>\n",
       "  </tbody>\n",
       "</table>\n",
       "</div>"
      ],
      "text/plain": [
       "                                       keyComponents  \\\n",
       "0  Non-Reliance on Previously Issued Financial St...   \n",
       "\n",
       "                                     identifiedIssue affectedReportingPeriods  \\\n",
       "0  [Errors in accounting for deferred tax liabili...                [FY 2020]   \n",
       "\n",
       "   restatementIsNecessary                              reasonsForRestatement  \\\n",
       "0                    True  [Material errors identified in the accounting ...   \n",
       "\n",
       "                                       impactOfError  impactIsMaterial  \\\n",
       "0  Material understatement of deferred tax liabil...              True   \n",
       "\n",
       "                               auditors  \\\n",
       "0  [Former Auditor, Paris Kreit & Chiu]   \n",
       "\n",
       "                                 eventClassification  \n",
       "0  Financial Restatement Due to Revenue Recogniti...  "
      ]
     },
     "execution_count": 112,
     "metadata": {},
     "output_type": "execute_result"
    }
   ],
   "source": [
    "# Load the extracted structured data into a DataFrame\n",
    "structured_data = pd.json_normalize(response_json)\n",
    "\n",
    "structured_data"
   ]
  },
  {
   "cell_type": "markdown",
   "metadata": {},
   "source": [
    "## Step 4: Calculate X-Day Returns for each Filing\n",
    "\n",
    "- Load daily stock prices for each company from `./data/historical-prices/CIK.csv`"
   ]
  },
  {
   "cell_type": "code",
   "execution_count": null,
   "metadata": {},
   "outputs": [],
   "source": []
  },
  {
   "cell_type": "markdown",
   "metadata": {},
   "source": [
    "## Step 5: Enrich Data with Fundamental Data\n",
    "\n",
    "- Load market cap, years since IPO, sector, industry, and other fundamental data for each CIK from WRDS in `./data/fundamentals/fundamentals.csv`"
   ]
  },
  {
   "cell_type": "code",
   "execution_count": null,
   "metadata": {},
   "outputs": [],
   "source": []
  },
  {
   "cell_type": "markdown",
   "metadata": {},
   "source": [
    "## Step 6: Analyze and Visualize Data"
   ]
  },
  {
   "cell_type": "code",
   "execution_count": null,
   "metadata": {},
   "outputs": [],
   "source": []
  },
  {
   "cell_type": "markdown",
   "metadata": {},
   "source": [
    "## End Result"
   ]
  },
  {
   "cell_type": "markdown",
   "metadata": {},
   "source": [
    "![Return Histogram](assets/returns-histogram-4.02.png)"
   ]
  },
  {
   "cell_type": "markdown",
   "metadata": {},
   "source": [
    "![Descp Stats](assets/desc-stats-returns-4.02.png)"
   ]
  }
 ],
 "metadata": {
  "kernelspec": {
   "display_name": "venv",
   "language": "python",
   "name": "python3"
  },
  "language_info": {
   "codemirror_mode": {
    "name": "ipython",
    "version": 3
   },
   "file_extension": ".py",
   "mimetype": "text/x-python",
   "name": "python",
   "nbconvert_exporter": "python",
   "pygments_lexer": "ipython3",
   "version": "3.10.10"
  }
 },
 "nbformat": 4,
 "nbformat_minor": 2
}
