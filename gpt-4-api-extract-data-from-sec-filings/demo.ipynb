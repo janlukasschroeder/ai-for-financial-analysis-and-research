{
 "cells": [
  {
   "cell_type": "markdown",
   "metadata": {},
   "source": [
    "# GPT-4 API: Extract Structured Data from SEC Filings (Material Event Disclosures)\n",
    "\n",
    "Data sources used:\n",
    "- SEC-API.io\n",
    "- AlgoSeek\n",
    "- WRDS Fundamental Data\n",
    "\n",
    "Logic:\n",
    "\n",
    "- Query API to download metadata of 8-Ks with Item 4.02 => create file `8K-filing-metadata.csv`\n",
    "- Extractor API to extract and download Item 4.02 sections => save to `./data/edgar/8K-item-4.02/CIK/ACCESSION-NO-item-4-2.txt`\n",
    "- Pre-select 100 filings that deal with revenue recognition errors, and where 50% impact is material and 50% not-material.\n",
    "- For each item section, extract structured data using GPT4 and save to `./data/edgar/8K-item-4.02/CIK/ACCESSION-NO-item-4-2-structured-data.json`\n",
    "- For each CIK, and `filedAt`, read `Years since IPO` and `market cap` from `fundamentals`\n",
    "- For each filing, calculate 1/2/3/5/10/20 day return after filing was disclosed\n",
    "  - Plot return distributions for each day\n",
    "  - Display descriptive stats\n",
    "\n",
    "More:\n",
    "- https://sec-api.io/resources/analyze-8-k-filings-and-material-event-disclosure-activity"
   ]
  },
  {
   "cell_type": "markdown",
   "metadata": {},
   "source": []
  },
  {
   "cell_type": "markdown",
   "metadata": {},
   "source": [
    "## Step 1: Locate URLs of 8-K Filings with Item 4.02"
   ]
  },
  {
   "cell_type": "code",
   "execution_count": 1,
   "metadata": {},
   "outputs": [
    {
     "data": {
      "text/plain": [
       "True"
      ]
     },
     "execution_count": 1,
     "metadata": {},
     "output_type": "execute_result"
    }
   ],
   "source": [
    "# load OPENAI_API_KEY value from .env file\n",
    "from dotenv import load_dotenv\n",
    "\n",
    "load_dotenv()"
   ]
  },
  {
   "cell_type": "code",
   "execution_count": 2,
   "metadata": {},
   "outputs": [
    {
     "name": "stdout",
     "output_type": "stream",
     "text": [
      "\n",
      "\u001b[1m[\u001b[0m\u001b[34;49mnotice\u001b[0m\u001b[1;39;49m]\u001b[0m\u001b[39;49m A new release of pip is available: \u001b[0m\u001b[31;49m23.0\u001b[0m\u001b[39;49m -> \u001b[0m\u001b[32;49m24.0\u001b[0m\n",
      "\u001b[1m[\u001b[0m\u001b[34;49mnotice\u001b[0m\u001b[1;39;49m]\u001b[0m\u001b[39;49m To update, run: \u001b[0m\u001b[32;49mpip install --upgrade pip\u001b[0m\n"
     ]
    }
   ],
   "source": [
    "!pip -q install sec-api"
   ]
  },
  {
   "cell_type": "code",
   "execution_count": 17,
   "metadata": {},
   "outputs": [
    {
     "data": {
      "text/html": [
       "<div>\n",
       "<style scoped>\n",
       "    .dataframe tbody tr th:only-of-type {\n",
       "        vertical-align: middle;\n",
       "    }\n",
       "\n",
       "    .dataframe tbody tr th {\n",
       "        vertical-align: top;\n",
       "    }\n",
       "\n",
       "    .dataframe thead th {\n",
       "        text-align: right;\n",
       "    }\n",
       "</style>\n",
       "<table border=\"1\" class=\"dataframe\">\n",
       "  <thead>\n",
       "    <tr style=\"text-align: right;\">\n",
       "      <th></th>\n",
       "      <th>formType</th>\n",
       "      <th>filedAt</th>\n",
       "      <th>accessionNo</th>\n",
       "      <th>ticker</th>\n",
       "      <th>cik</th>\n",
       "      <th>companyName</th>\n",
       "      <th>items</th>\n",
       "      <th>linkToHtml</th>\n",
       "    </tr>\n",
       "  </thead>\n",
       "  <tbody>\n",
       "    <tr>\n",
       "      <th>0</th>\n",
       "      <td>8-K</td>\n",
       "      <td>2022-12-27T16:20:13-05:00</td>\n",
       "      <td>0001213900-22-082892</td>\n",
       "      <td>POLCQ</td>\n",
       "      <td>1810140</td>\n",
       "      <td>Polished.com Inc.</td>\n",
       "      <td>[Item 4.01: Changes in Registrant's Certifying...</td>\n",
       "      <td>https://www.sec.gov/Archives/edgar/data/181014...</td>\n",
       "    </tr>\n",
       "    <tr>\n",
       "      <th>1</th>\n",
       "      <td>8-K</td>\n",
       "      <td>2022-12-22T16:30:53-05:00</td>\n",
       "      <td>0001493152-22-036320</td>\n",
       "      <td>GLLI</td>\n",
       "      <td>1888734</td>\n",
       "      <td>GLOBALINK INVESTMENT INC.</td>\n",
       "      <td>[Item 4.02: Non-Reliance on Previously Issued ...</td>\n",
       "      <td>https://www.sec.gov/Archives/edgar/data/188873...</td>\n",
       "    </tr>\n",
       "    <tr>\n",
       "      <th>2</th>\n",
       "      <td>8-K</td>\n",
       "      <td>2022-12-21T17:25:38-05:00</td>\n",
       "      <td>0001213900-22-081850</td>\n",
       "      <td>CLRC</td>\n",
       "      <td>1903392</td>\n",
       "      <td>ClimateRock</td>\n",
       "      <td>[Item 4.02: Non-Reliance on Previously Issued ...</td>\n",
       "      <td>https://www.sec.gov/Archives/edgar/data/190339...</td>\n",
       "    </tr>\n",
       "    <tr>\n",
       "      <th>3</th>\n",
       "      <td>8-K</td>\n",
       "      <td>2022-12-16T16:17:36-05:00</td>\n",
       "      <td>0001185185-22-001426</td>\n",
       "      <td>FEIM</td>\n",
       "      <td>39020</td>\n",
       "      <td>FREQUENCY ELECTRONICS INC</td>\n",
       "      <td>[Item 2.02: Results of Operations and Financia...</td>\n",
       "      <td>https://www.sec.gov/Archives/edgar/data/39020/...</td>\n",
       "    </tr>\n",
       "    <tr>\n",
       "      <th>4</th>\n",
       "      <td>8-K</td>\n",
       "      <td>2022-12-16T16:05:27-05:00</td>\n",
       "      <td>0001493152-22-035733</td>\n",
       "      <td>VTRO</td>\n",
       "      <td>793171</td>\n",
       "      <td>Vitro Biopharma, Inc.</td>\n",
       "      <td>[Item 4.02: Non-Reliance on Previously Issued ...</td>\n",
       "      <td>https://www.sec.gov/Archives/edgar/data/793171...</td>\n",
       "    </tr>\n",
       "    <tr>\n",
       "      <th>5</th>\n",
       "      <td>8-K</td>\n",
       "      <td>2022-12-13T17:03:52-05:00</td>\n",
       "      <td>0001437749-22-028985</td>\n",
       "      <td>BBCP</td>\n",
       "      <td>1703956</td>\n",
       "      <td>Concrete Pumping Holdings, Inc.</td>\n",
       "      <td>[Item 4.02: Non-Reliance on Previously Issued ...</td>\n",
       "      <td>https://www.sec.gov/Archives/edgar/data/170395...</td>\n",
       "    </tr>\n",
       "    <tr>\n",
       "      <th>6</th>\n",
       "      <td>8-K</td>\n",
       "      <td>2022-12-13T16:05:01-05:00</td>\n",
       "      <td>0000950170-22-026457</td>\n",
       "      <td>ALCO</td>\n",
       "      <td>3545</td>\n",
       "      <td>ALICO, INC.</td>\n",
       "      <td>[Item 2.02: Results of Operations and Financia...</td>\n",
       "      <td>https://www.sec.gov/Archives/edgar/data/3545/0...</td>\n",
       "    </tr>\n",
       "    <tr>\n",
       "      <th>7</th>\n",
       "      <td>8-K</td>\n",
       "      <td>2022-12-08T18:32:18-05:00</td>\n",
       "      <td>0001818502-22-000020</td>\n",
       "      <td>OPFI</td>\n",
       "      <td>1818502</td>\n",
       "      <td>OppFi Inc.</td>\n",
       "      <td>[Item 2.02: Results of Operations and Financia...</td>\n",
       "      <td>https://www.sec.gov/Archives/edgar/data/181850...</td>\n",
       "    </tr>\n",
       "    <tr>\n",
       "      <th>8</th>\n",
       "      <td>8-K</td>\n",
       "      <td>2022-12-08T16:01:02-05:00</td>\n",
       "      <td>0001213900-22-078469</td>\n",
       "      <td>GIAC</td>\n",
       "      <td>1853314</td>\n",
       "      <td>Gesher I Acquisition Corp.</td>\n",
       "      <td>[Item 4.02: Non-Reliance on Previously Issued ...</td>\n",
       "      <td>https://www.sec.gov/Archives/edgar/data/185331...</td>\n",
       "    </tr>\n",
       "    <tr>\n",
       "      <th>9</th>\n",
       "      <td>8-K</td>\n",
       "      <td>2022-12-06T16:25:39-05:00</td>\n",
       "      <td>0001171843-22-007863</td>\n",
       "      <td>WHLM</td>\n",
       "      <td>1013706</td>\n",
       "      <td>Wilhelmina International, Inc.</td>\n",
       "      <td>[Item 4.02: Non-Reliance on Previously Issued ...</td>\n",
       "      <td>https://www.sec.gov/Archives/edgar/data/101370...</td>\n",
       "    </tr>\n",
       "  </tbody>\n",
       "</table>\n",
       "</div>"
      ],
      "text/plain": [
       "  formType                    filedAt           accessionNo ticker      cik  \\\n",
       "0      8-K  2022-12-27T16:20:13-05:00  0001213900-22-082892  POLCQ  1810140   \n",
       "1      8-K  2022-12-22T16:30:53-05:00  0001493152-22-036320   GLLI  1888734   \n",
       "2      8-K  2022-12-21T17:25:38-05:00  0001213900-22-081850   CLRC  1903392   \n",
       "3      8-K  2022-12-16T16:17:36-05:00  0001185185-22-001426   FEIM    39020   \n",
       "4      8-K  2022-12-16T16:05:27-05:00  0001493152-22-035733   VTRO   793171   \n",
       "5      8-K  2022-12-13T17:03:52-05:00  0001437749-22-028985   BBCP  1703956   \n",
       "6      8-K  2022-12-13T16:05:01-05:00  0000950170-22-026457   ALCO     3545   \n",
       "7      8-K  2022-12-08T18:32:18-05:00  0001818502-22-000020   OPFI  1818502   \n",
       "8      8-K  2022-12-08T16:01:02-05:00  0001213900-22-078469   GIAC  1853314   \n",
       "9      8-K  2022-12-06T16:25:39-05:00  0001171843-22-007863   WHLM  1013706   \n",
       "\n",
       "                       companyName  \\\n",
       "0                Polished.com Inc.   \n",
       "1        GLOBALINK INVESTMENT INC.   \n",
       "2                      ClimateRock   \n",
       "3        FREQUENCY ELECTRONICS INC   \n",
       "4            Vitro Biopharma, Inc.   \n",
       "5  Concrete Pumping Holdings, Inc.   \n",
       "6                      ALICO, INC.   \n",
       "7                       OppFi Inc.   \n",
       "8       Gesher I Acquisition Corp.   \n",
       "9   Wilhelmina International, Inc.   \n",
       "\n",
       "                                               items  \\\n",
       "0  [Item 4.01: Changes in Registrant's Certifying...   \n",
       "1  [Item 4.02: Non-Reliance on Previously Issued ...   \n",
       "2  [Item 4.02: Non-Reliance on Previously Issued ...   \n",
       "3  [Item 2.02: Results of Operations and Financia...   \n",
       "4  [Item 4.02: Non-Reliance on Previously Issued ...   \n",
       "5  [Item 4.02: Non-Reliance on Previously Issued ...   \n",
       "6  [Item 2.02: Results of Operations and Financia...   \n",
       "7  [Item 2.02: Results of Operations and Financia...   \n",
       "8  [Item 4.02: Non-Reliance on Previously Issued ...   \n",
       "9  [Item 4.02: Non-Reliance on Previously Issued ...   \n",
       "\n",
       "                                          linkToHtml  \n",
       "0  https://www.sec.gov/Archives/edgar/data/181014...  \n",
       "1  https://www.sec.gov/Archives/edgar/data/188873...  \n",
       "2  https://www.sec.gov/Archives/edgar/data/190339...  \n",
       "3  https://www.sec.gov/Archives/edgar/data/39020/...  \n",
       "4  https://www.sec.gov/Archives/edgar/data/793171...  \n",
       "5  https://www.sec.gov/Archives/edgar/data/170395...  \n",
       "6  https://www.sec.gov/Archives/edgar/data/3545/0...  \n",
       "7  https://www.sec.gov/Archives/edgar/data/181850...  \n",
       "8  https://www.sec.gov/Archives/edgar/data/185331...  \n",
       "9  https://www.sec.gov/Archives/edgar/data/101370...  "
      ]
     },
     "execution_count": 17,
     "metadata": {},
     "output_type": "execute_result"
    }
   ],
   "source": [
    "import os\n",
    "from sec_api import QueryApi\n",
    "import pandas as pd\n",
    "\n",
    "SEC_API_KEY = os.getenv(\"SEC_API_KEY\")\n",
    "\n",
    "queryApi = QueryApi(api_key=SEC_API_KEY)\n",
    "\n",
    "query = {\n",
    "    \"query\": 'formType:\"8-K\" AND items:\"4.02\" AND filedAt:[2022-01-01 TO 2022-12-31]',\n",
    "    \"from\": \"0\",\n",
    "    \"size\": \"50\",\n",
    "    \"sort\": [{\"filedAt\": {\"order\": \"desc\"}}],\n",
    "}\n",
    "\n",
    "response = queryApi.get_filings(query)\n",
    "\n",
    "# Convert JSON array to DataFrame\n",
    "filings_metadata = pd.DataFrame(response[\"filings\"])\n",
    "\n",
    "columns_of_interest = [\n",
    "    \"formType\",\n",
    "    \"filedAt\",\n",
    "    \"accessionNo\",\n",
    "    \"ticker\",\n",
    "    \"cik\",\n",
    "    \"companyName\",\n",
    "    \"items\",\n",
    "    \"linkToHtml\",\n",
    "]\n",
    "\n",
    "filings_metadata[columns_of_interest].head(10)"
   ]
  },
  {
   "cell_type": "code",
   "execution_count": 18,
   "metadata": {},
   "outputs": [],
   "source": [
    "# Save the DataFrame to a CSV file ./data/edgar/8K-filing-metadata.csv\n",
    "filings_metadata[columns_of_interest].to_csv(\"./data/edgar/8K-filing-metadata.csv\", index=False)"
   ]
  },
  {
   "cell_type": "markdown",
   "metadata": {},
   "source": [
    "## Step 2: Download Item 4.02 Sections"
   ]
  },
  {
   "cell_type": "code",
   "execution_count": null,
   "metadata": {},
   "outputs": [],
   "source": []
  },
  {
   "cell_type": "markdown",
   "metadata": {},
   "source": [
    "## Step 3: Use GPT-4 API to Extract Structured Data"
   ]
  },
  {
   "cell_type": "code",
   "execution_count": null,
   "metadata": {},
   "outputs": [],
   "source": []
  },
  {
   "cell_type": "markdown",
   "metadata": {},
   "source": [
    "## Step 4: Calculate X-Day Returns for each Filing\n",
    "\n",
    "- Load daily stock prices for each company from `./data/historical-prices/CIK.csv`"
   ]
  },
  {
   "cell_type": "code",
   "execution_count": null,
   "metadata": {},
   "outputs": [],
   "source": []
  },
  {
   "cell_type": "markdown",
   "metadata": {},
   "source": [
    "## Step 5: Enrich Data with Fundamental Data\n",
    "\n",
    "- Load market cap, years since IPO, sector, industry, and other fundamental data for each CIK from WRDS in `./data/fundamentals/fundamentals.csv`"
   ]
  },
  {
   "cell_type": "code",
   "execution_count": null,
   "metadata": {},
   "outputs": [],
   "source": []
  },
  {
   "cell_type": "markdown",
   "metadata": {},
   "source": [
    "## Step 6: Analyze and Visualize Data"
   ]
  },
  {
   "cell_type": "code",
   "execution_count": null,
   "metadata": {},
   "outputs": [],
   "source": []
  },
  {
   "cell_type": "markdown",
   "metadata": {},
   "source": [
    "## End Result"
   ]
  },
  {
   "cell_type": "markdown",
   "metadata": {},
   "source": [
    "![Return Histogram](assets/returns-histogram-4.02.png)"
   ]
  },
  {
   "cell_type": "markdown",
   "metadata": {},
   "source": [
    "![Descp Stats](assets/desc-stats-returns-4.02.png)"
   ]
  }
 ],
 "metadata": {
  "kernelspec": {
   "display_name": "venv",
   "language": "python",
   "name": "python3"
  },
  "language_info": {
   "codemirror_mode": {
    "name": "ipython",
    "version": 3
   },
   "file_extension": ".py",
   "mimetype": "text/x-python",
   "name": "python",
   "nbconvert_exporter": "python",
   "pygments_lexer": "ipython3",
   "version": "3.10.10"
  }
 },
 "nbformat": 4,
 "nbformat_minor": 2
}
