{
 "cells": [
  {
   "cell_type": "markdown",
   "metadata": {},
   "source": [
    "# GPT-4 API: Extract Structured Data from SEC Filings (Material Event Disclosures)\n",
    "\n",
    "Data sources used:\n",
    "- SEC-API.io\n",
    "- AlgoSeek\n",
    "- WRDS Fundamental Data\n",
    "\n",
    "Logic:\n",
    "\n",
    "- Query API to download metadata of 8-Ks with Item 4.02 => create file `8K-filing-metadata.csv`\n",
    "- Extractor API to extract and download Item 4.02 sections => save to `./data/edgar/8K-item-4.02/CIK/ACCESSION-NO-item-4-2.txt`\n",
    "- Pre-select 100 filings that deal with revenue recognition errors, and where 50% impact is material and 50% not-material.\n",
    "- For each item section, extract structured data using GPT4 and save to `./data/edgar/8K-item-4.02/CIK/ACCESSION-NO-item-4-2-structured-data.json`\n",
    "- For each CIK, and `filedAt`, read `Years since IPO` and `market cap` from `fundamentals`\n",
    "- For each filing, calculate 1/2/3/5/10/20 day return after filing was disclosed\n",
    "  - Plot return distributions for each day\n",
    "  - Display descriptive stats"
   ]
  },
  {
   "cell_type": "code",
   "execution_count": null,
   "metadata": {},
   "outputs": [],
   "source": []
  },
  {
   "cell_type": "markdown",
   "metadata": {},
   "source": [
    "## End Result"
   ]
  },
  {
   "cell_type": "markdown",
   "metadata": {},
   "source": [
    "![Return Histogram](./assets/returns-histogram-4.02.png)"
   ]
  },
  {
   "cell_type": "markdown",
   "metadata": {},
   "source": [
    "![Descp Stats](./assets/desc-stats-returns-4.02.png)"
   ]
  }
 ],
 "metadata": {
  "language_info": {
   "name": "python"
  }
 },
 "nbformat": 4,
 "nbformat_minor": 2
}
